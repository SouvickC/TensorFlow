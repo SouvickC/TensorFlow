{
  "cells": [
    {
      "cell_type": "code",
      "source": [
        "import os\n",
        "import shutil\n",
        "import random\n",
        "import numpy as np\n",
        "from io import BytesIO\n",
        "\n",
        "import matplotlib.pyplot as plt\n",
        "import matplotlib.image as mpimg\n",
        "\n",
        "import tensorflow as tf\n",
        "from ipywidgets import widgets\n"
      ],
      "metadata": {
        "id": "iSOcx-7tHmJH"
      },
      "id": "iSOcx-7tHmJH",
      "execution_count": 9,
      "outputs": []
    },
    {
      "cell_type": "markdown",
      "source": [
        "## Importing data and Feature Engineering"
      ],
      "metadata": {
        "id": "MKfYgurzwuDX"
      },
      "id": "MKfYgurzwuDX"
    },
    {
      "cell_type": "code",
      "source": [
        "# Create the .kaggle directory\n",
        "!mkdir -p ~/.kaggle\n",
        "\n",
        "# create kaggle move/upload the kaggle.json file\n",
        "!mv kaggle.json ~/.kaggle/\n",
        "!chmod 600 ~/.kaggle/kaggle.json\n",
        "!kaggle datasets list\n",
        "\n",
        "## importing the dataset from kaggle\n",
        "!kaggle competitions download -c dogs-vs-cats\n",
        "\n"
      ],
      "metadata": {
        "id": "BMh5uzVaLIWo",
        "outputId": "880b42fb-7461-4c60-e29c-4b1ddd48f3e3",
        "colab": {
          "base_uri": "https://localhost:8080/"
        }
      },
      "id": "BMh5uzVaLIWo",
      "execution_count": 3,
      "outputs": [
        {
          "output_type": "stream",
          "name": "stdout",
          "text": [
            "ref                                                          title                                                      size  lastUpdated                 downloadCount  voteCount  usabilityRating  \n",
            "-----------------------------------------------------------  --------------------------------------------------  -----------  --------------------------  -------------  ---------  ---------------  \n",
            "jayaantanaath/student-habits-vs-academic-performance         Student Habits vs Academic Performance                    19512  2025-04-12 10:49:08.663000          20466        346  1.0              \n",
            "adilshamim8/cost-of-international-education                  Cost of International Education                           18950  2025-05-07 15:41:53.213000           3109         47  1.0              \n",
            "fatemehmohammadinia/heart-attack-dataset-tarik-a-rashid      Heart Attack Dataset                                      16250  2025-04-30 21:58:22.740000           3811         68  1.0              \n",
            "ivankmk/thousand-ml-jobs-in-usa                              Machine Learning Job Postings in the US                 1682058  2025-04-20 16:11:59.347000           3112         58  1.0              \n",
            "aryan208/financial-transactions-dataset-for-fraud-detection  Financial Transactions Dataset for Fraud Detection    290256858  2025-05-02 09:12:28.203000            890         27  1.0              \n",
            "khushikyad001/impact-of-screen-time-on-mental-health         Impact of Screen Time on Mental Health                    64873  2025-04-20 18:01:47.570000           2363         42  1.0              \n",
            "mahdimashayekhi/fake-news-detection-dataset                  Fake News Detection Dataset                            11735585  2025-04-27 14:52:10.607000           1199         13  1.0              \n",
            "glowstudygram/spotify-songs-and-artists-dataset              Spotify Songs and Artists Dataset | Audio Features        68415  2025-04-27 12:38:36.850000           1623         28  0.8235294        \n",
            "zahidmughal2343/global-cancer-patients-2015-2024             global_cancer_patients_2015_2024                        1261049  2025-04-14 00:05:23.367000           4782         59  1.0              \n",
            "khushikyad001/screen-time-and-app-usage-dataset-iosandroid   Screen Time and App Usage Dataset (iOS/Android)          157038  2025-04-19 13:23:41.067000           1856         29  1.0              \n",
            "madhuraatmarambhagat/crop-recommendation-dataset             Crop Recommendation Dataset                               65234  2025-05-08 17:02:09.397000            414         23  1.0              \n",
            "palvinder2006/ola-bike-ride-request                          Ola Bike Ride Request                                    174975  2025-04-28 03:55:33.860000            980         25  1.0              \n",
            "adilshamim8/predict-students-dropout-and-academic-success    Student Dropout & Success Prediction Dataset             106181  2025-04-23 06:34:06.433000           2262         35  1.0              \n",
            "nikolasgegenava/sneakers-classification                      Popular Sneakers Classification                        17981294  2025-05-01 12:00:45.517000           1399         40  1.0              \n",
            "umeradnaan/daily-social-media-active-users                   Daily Social Media Active Users                          126814  2025-05-05 02:11:50.873000           1473         21  1.0              \n",
            "sahirmaharajj/bird-migration-dataset-data-visualization-eda  Bird Migration Dataset (Data Visualization / EDA)       1002468  2025-04-23 18:33:29.913000           1253         23  1.0              \n",
            "wikimedia-foundation/wikipedia-structured-contents           Wikipedia Structured Contents                       25121685657  2025-04-11 07:11:03.397000           1915        251  0.8125           \n",
            "razanaqvi14/real-and-fake-news                               Real & Fake News                                       42975911  2025-04-28 19:46:53.073000            598         18  1.0              \n",
            "dansbecker/melbourne-housing-snapshot                        Melbourne Housing Snapshot                               461423  2018-06-05 12:52:24.087000         179189       1615  0.7058824        \n",
            "adilshamim8/greenhouse-plant-growth-metrics                  Greenhouse Plant Growth                                 3041046  2025-04-19 07:33:57.787000           1619         24  1.0              \n"
          ]
        }
      ]
    },
    {
      "cell_type": "code",
      "source": [
        "import zipfile\n",
        "\n",
        "local_zip = '/content/dogs-vs-cats.zip'\n",
        "zip_ref = zipfile.ZipFile(local_zip, 'r')\n",
        "zip_ref.extractall('/content/cat_vs_dog')\n",
        "zip_ref.close()"
      ],
      "metadata": {
        "id": "Yq7h5-AkKme1"
      },
      "id": "Yq7h5-AkKme1",
      "execution_count": 4,
      "outputs": []
    },
    {
      "cell_type": "code",
      "source": [
        "base_dir = '/content/cat_vs_dog'\n",
        "train_zip_path = os.path.join(base_dir, 'train.zip')\n",
        "test_zip_path = os.path.join(base_dir, 'test1.zip')\n",
        "train_extract_path = os.path.join(base_dir, 'train')\n",
        "test_extract_path = os.path.join(base_dir, 'test')\n",
        "\n",
        "\n",
        "# Extract training data\n",
        "with zipfile.ZipFile(train_zip_path, 'r') as zip_ref:\n",
        "    zip_ref.extractall(train_extract_path)\n",
        "\n",
        "# Extract test data\n",
        "with zipfile.ZipFile(test_zip_path, 'r') as zip_ref:\n",
        "    zip_ref.extractall(test_extract_path)\n"
      ],
      "metadata": {
        "id": "XoScBgmHKmc0"
      },
      "id": "XoScBgmHKmc0",
      "execution_count": 5,
      "outputs": []
    },
    {
      "cell_type": "code",
      "source": [
        "# Check number of files in train and test directories\n",
        "train_extract_path = os.path.join(train_extract_path, 'train')\n",
        "test_extract_path = os.path.join(test_extract_path, 'test1')\n",
        "\n",
        "print(\"Number of training images:\", len(os.listdir(train_extract_path)))\n",
        "print(\"Number of test images:\", len(os.listdir(test_extract_path)))\n"
      ],
      "metadata": {
        "id": "L5X_vqMIdN7W",
        "outputId": "b749bc3a-8b9d-4992-9277-f751a95dd74a",
        "colab": {
          "base_uri": "https://localhost:8080/"
        }
      },
      "id": "L5X_vqMIdN7W",
      "execution_count": 6,
      "outputs": [
        {
          "output_type": "stream",
          "name": "stdout",
          "text": [
            "Number of training images: 25000\n",
            "Number of test images: 12500\n"
          ]
        }
      ]
    },
    {
      "cell_type": "code",
      "source": [
        "# Create new directories for cats and dogs\n",
        "train_cats_dir = os.path.join(train_extract_path, 'cats')\n",
        "train_dogs_dir = os.path.join(train_extract_path, 'dogs')\n",
        "\n",
        "os.makedirs(train_cats_dir, exist_ok=True)\n",
        "os.makedirs(train_dogs_dir, exist_ok=True)\n",
        "\n"
      ],
      "metadata": {
        "id": "_HbBLnKhKmaw"
      },
      "id": "_HbBLnKhKmaw",
      "execution_count": 7,
      "outputs": []
    },
    {
      "cell_type": "code",
      "source": [
        "base_train_dir = '/content/cat_vs_dog/train/train'\n",
        "# Iterate through the files in the main train directory\n",
        "\n",
        "for filename in os.listdir(base_train_dir):\n",
        "    file_path = os.path.join(base_train_dir, filename)\n",
        "\n",
        "    # Only consider files (not directories)\n",
        "    if os.path.isfile(file_path):\n",
        "        # Move to 'cats' folder\n",
        "        if filename.startswith('cat'):\n",
        "            shutil.move(file_path, os.path.join(train_cats_dir, filename))\n",
        "\n",
        "        # Move to 'dogs' folder\n",
        "        elif filename.startswith('dog'):\n",
        "            shutil.move(file_path, os.path.join(train_dogs_dir, filename))\n",
        "\n",
        "print(\"Files moved successfully!\")"
      ],
      "metadata": {
        "id": "M1HFidkgKmYp",
        "outputId": "efe5bc9f-02c6-4270-d15b-b28b3073c386",
        "colab": {
          "base_uri": "https://localhost:8080/"
        }
      },
      "id": "M1HFidkgKmYp",
      "execution_count": 10,
      "outputs": [
        {
          "output_type": "stream",
          "name": "stdout",
          "text": [
            "Files moved successfully!\n"
          ]
        }
      ]
    },
    {
      "cell_type": "code",
      "source": [
        "## Validation folder creation\n",
        "base_train_dir = '/content/cat_vs_dog'\n",
        "\n",
        "# Define paths\n",
        "val_dir = os.path.join(base_train_dir, 'val')\n",
        "os.makedirs(os.path.join(val_dir, 'cats'), exist_ok=True)\n",
        "os.makedirs(os.path.join(val_dir, 'dogs'), exist_ok=True)\n"
      ],
      "metadata": {
        "id": "4reTvz4jKmWu"
      },
      "id": "4reTvz4jKmWu",
      "execution_count": 11,
      "outputs": []
    },
    {
      "cell_type": "code",
      "source": [
        "print(train_cats_dir)\n"
      ],
      "metadata": {
        "id": "4dziLexVvyKC",
        "outputId": "9e46bb60-d6f3-47d3-9d96-3adbb4edf049",
        "colab": {
          "base_uri": "https://localhost:8080/"
        }
      },
      "id": "4dziLexVvyKC",
      "execution_count": 12,
      "outputs": [
        {
          "output_type": "stream",
          "name": "stdout",
          "text": [
            "/content/cat_vs_dog/train/train/cats\n"
          ]
        }
      ]
    },
    {
      "cell_type": "code",
      "source": [
        "from sklearn.model_selection import train_test_split"
      ],
      "metadata": {
        "id": "Th4WlnHZvFuP"
      },
      "id": "Th4WlnHZvFuP",
      "execution_count": 13,
      "outputs": []
    },
    {
      "cell_type": "code",
      "source": [
        "val_cats_dir = '/content/cat_vs_dog/val/cats'\n",
        "os.makedirs(val_cats_dir, exist_ok=True)\n",
        "\n",
        "\n",
        "# Split ratio\n",
        "split_ratio = 0.8\n",
        "\n",
        "## making the list from the files\n",
        "cat_files = os.listdir(train_cats_dir)\n",
        "\n",
        "# Split Cats\n",
        "train_cats, val_cats = train_test_split(cat_files, train_size=split_ratio, random_state=42)\n",
        "\n",
        "for filename in val_cats:\n",
        "\n",
        "  ## creating the source and destination path directory\n",
        "    src_path = os.path.join(train_cats_dir, filename)\n",
        "    dest_path = os.path.join(val_cats_dir, filename)\n",
        "\n",
        "    # Move only if it is a file\n",
        "    if os.path.isfile(src_path):\n",
        "        shutil.move(src_path, dest_path)\n",
        "\n",
        "\n",
        "print(\"Files moved successfully!\")"
      ],
      "metadata": {
        "id": "eGF6-0RZKmUh",
        "outputId": "a179204a-f33a-447c-d67b-a34f879429c6",
        "colab": {
          "base_uri": "https://localhost:8080/"
        }
      },
      "id": "eGF6-0RZKmUh",
      "execution_count": 14,
      "outputs": [
        {
          "output_type": "stream",
          "name": "stdout",
          "text": [
            "Files moved successfully!\n"
          ]
        }
      ]
    },
    {
      "cell_type": "code",
      "source": [
        "val_dogs_dir = '/content/cat_vs_dog/val/dogs'\n",
        "os.makedirs(val_dogs_dir, exist_ok=True)\n",
        "\n",
        "\n",
        "# Split ratio\n",
        "split_ratio = 0.8\n",
        "\n",
        "## making the list from the files\n",
        "dog_files = os.listdir(train_dogs_dir)\n",
        "\n",
        "# Split dogs\n",
        "train_dogs, val_dogs = train_test_split(dog_files, train_size=split_ratio, random_state=42)\n",
        "\n",
        "for filename in val_dogs:\n",
        "\n",
        "  ## creating the source and destination path directory\n",
        "    src_path = os.path.join(train_dogs_dir, filename)\n",
        "    dest_path = os.path.join(val_dogs_dir, filename)\n",
        "\n",
        "    # Move only if it is a file\n",
        "    if os.path.isfile(src_path):\n",
        "        shutil.move(src_path, dest_path)\n",
        "\n",
        "\n",
        "print(\"Files moved successfully!\")"
      ],
      "metadata": {
        "id": "qoSNyqryKmSn",
        "outputId": "b417adc3-b249-4e24-8195-75decfca4912",
        "colab": {
          "base_uri": "https://localhost:8080/"
        }
      },
      "id": "qoSNyqryKmSn",
      "execution_count": 15,
      "outputs": [
        {
          "output_type": "stream",
          "name": "stdout",
          "text": [
            "Files moved successfully!\n"
          ]
        }
      ]
    },
    {
      "cell_type": "code",
      "source": [
        "print(\"Number of training Cat images:\", len(os.listdir(train_cats_dir)))\n",
        "print(\"Number of training Dog images:\", len(os.listdir(train_dogs_dir)))\n",
        "\n",
        "print(\"Number of validation Cat images:\", len(os.listdir(val_cats_dir)))\n",
        "print(\"Number of validation Dog images:\", len(os.listdir(val_dogs_dir)))"
      ],
      "metadata": {
        "id": "ADZgFPQ_KmP6",
        "outputId": "85e7dc16-b2eb-4e2a-b80a-9f3524a1630a",
        "colab": {
          "base_uri": "https://localhost:8080/"
        }
      },
      "id": "ADZgFPQ_KmP6",
      "execution_count": 16,
      "outputs": [
        {
          "output_type": "stream",
          "name": "stdout",
          "text": [
            "Number of training Cat images: 10000\n",
            "Number of training Dog images: 10000\n",
            "Number of validation Cat images: 2500\n",
            "Number of validation Dog images: 2500\n"
          ]
        }
      ]
    },
    {
      "cell_type": "markdown",
      "source": [
        "## Model Building and training"
      ],
      "metadata": {
        "id": "O5qhmFIf0ayH"
      },
      "id": "O5qhmFIf0ayH"
    },
    {
      "cell_type": "code",
      "source": [
        "model = tf.keras.models.Sequential([\n",
        "    # Rescale the image. Note the input shape is the desired size of the image: 150x150 with 3 bytes for color\n",
        "\n",
        "    tf.keras.Input(shape=(150, 150, 3)),\n",
        "    tf.keras.layers.Rescaling(1./255),\n",
        "\n",
        "    # Convolution and Pooling layers\n",
        "    tf.keras.layers.Conv2D(16, (3,3), activation='relu'),\n",
        "    tf.keras.layers.MaxPooling2D(2,2),\n",
        "    tf.keras.layers.Conv2D(32, (3,3), activation='relu'),\n",
        "    tf.keras.layers.MaxPooling2D(2,2),\n",
        "    tf.keras.layers.Conv2D(64, (3,3), activation='relu'),\n",
        "    tf.keras.layers.MaxPooling2D(2,2),\n",
        "\n",
        "    # Flatten the results to feed into a DNN\n",
        "    tf.keras.layers.Flatten(),\n",
        "\n",
        "    # 512 neuron hidden layer\n",
        "\n",
        "    tf.keras.layers.Dense(512, activation='relu'),\n",
        "    # Only 1 output neuron. It will contain a value from 0-1 where 0 for one class ('cats') and 1 for the other ('dogs')\n",
        "\n",
        "    tf.keras.layers.Dense(1, activation='sigmoid')\n",
        "])\n",
        "\n",
        "model.summary()"
      ],
      "metadata": {
        "id": "bZOOp_n8zwVE"
      },
      "id": "bZOOp_n8zwVE",
      "execution_count": null,
      "outputs": []
    },
    {
      "cell_type": "code",
      "source": [
        "model.compile(\n",
        "    optimizer=tf.keras.optimizers.RMSprop(learning_rate=0.001),\n",
        "    loss='binary_crossentropy',\n",
        "    metrics = ['accuracy']\n",
        "    )"
      ],
      "metadata": {
        "id": "a1vgglYozwTB"
      },
      "id": "a1vgglYozwTB",
      "execution_count": null,
      "outputs": []
    },
    {
      "cell_type": "code",
      "source": [
        "train_dir ='/content/cat_vs_dog/train/train'\n",
        "val_dir ='/content/cat_vs_dog/val'\n",
        "\n",
        "# Instantiate the Dataset object for the training set\n",
        "train_dataset = tf.keras.utils.image_dataset_from_directory(\n",
        "    train_dir,\n",
        "    image_size=(150, 150),\n",
        "    batch_size=50,\n",
        "    label_mode='binary'\n",
        "    )\n",
        "\n",
        "# Instantiate the Dataset object for the validation set\n",
        "validation_dataset = tf.keras.utils.image_dataset_from_directory(\n",
        "    val_dir,\n",
        "    image_size=(150, 150),\n",
        "    batch_size=50,\n",
        "    label_mode='binary'\n",
        "    )"
      ],
      "metadata": {
        "id": "XEtAyc7dzwQr"
      },
      "id": "XEtAyc7dzwQr",
      "execution_count": null,
      "outputs": []
    },
    {
      "cell_type": "code",
      "source": [
        "print(train_dataset.class_names[0])"
      ],
      "metadata": {
        "id": "ySotvVxHy3YN"
      },
      "id": "ySotvVxHy3YN",
      "execution_count": null,
      "outputs": []
    },
    {
      "cell_type": "code",
      "source": [
        "SHUFFLE_BUFFER_SIZE = 1000\n",
        "PREFETCH_BUFFER_SIZE = tf.data.AUTOTUNE\n",
        "\n",
        "train_dataset_final = train_dataset.cache().shuffle(SHUFFLE_BUFFER_SIZE).prefetch(PREFETCH_BUFFER_SIZE)\n",
        "validation_dataset_final = validation_dataset.cache().prefetch(PREFETCH_BUFFER_SIZE)"
      ],
      "metadata": {
        "id": "clscArV0zwO5"
      },
      "id": "clscArV0zwO5",
      "execution_count": null,
      "outputs": []
    },
    {
      "cell_type": "code",
      "source": [
        "print(\"Num GPUs Available: \", len(tf.config.list_physical_devices('GPU')))\n",
        "gpus = tf.config.experimental.list_physical_devices('GPU')\n",
        "if gpus:\n",
        "    try:\n",
        "        # Restrict TensorFlow to only use the first GPU\n",
        "        tf.config.experimental.set_visible_devices(gpus[0], 'GPU')\n",
        "        logical_gpus = tf.config.experimental.list_logical_devices('GPU')\n",
        "        print(len(gpus), \"Physical GPUs,\", len(logical_gpus), \"Logical GPUs\")\n",
        "    except RuntimeError as e:\n",
        "        print(e)"
      ],
      "metadata": {
        "id": "AUO37vzXzwMM"
      },
      "id": "AUO37vzXzwMM",
      "execution_count": null,
      "outputs": []
    },
    {
      "cell_type": "code",
      "source": [
        "history = model.fit(\n",
        "    train_dataset_final,\n",
        "    epochs=15,\n",
        "    validation_data=validation_dataset_final,\n",
        "    verbose=2\n",
        "    )"
      ],
      "metadata": {
        "id": "D-xz3cY2zwJk"
      },
      "id": "D-xz3cY2zwJk",
      "execution_count": null,
      "outputs": []
    },
    {
      "cell_type": "code",
      "source": [
        "model.save('/content/dog_cat_classification.keras')"
      ],
      "metadata": {
        "id": "4_NWgh8B5myp"
      },
      "id": "4_NWgh8B5myp",
      "execution_count": null,
      "outputs": []
    },
    {
      "cell_type": "markdown",
      "source": [
        "## Prediction of Cats and Dogs\n"
      ],
      "metadata": {
        "id": "Yx-kcI5dx5Gu"
      },
      "id": "Yx-kcI5dx5Gu"
    },
    {
      "cell_type": "code",
      "source": [
        "import ipywidgets as widgets\n",
        "from IPython.display import display\n",
        "import tensorflow as tf\n",
        "import numpy as np\n",
        "from io import BytesIO"
      ],
      "metadata": {
        "id": "Yt8FZQlg6Vem"
      },
      "id": "Yt8FZQlg6Vem",
      "execution_count": 18,
      "outputs": []
    },
    {
      "cell_type": "code",
      "source": [
        "## if need to predict from upload use this\n",
        "# ------------------------------------------------------\n",
        "# # Create the widget and take care of the display\n",
        "# uploader = widgets.FileUpload(accept=\"image/*\", multiple=True)\n",
        "# display(uploader)\n",
        "# out = widgets.Output()\n",
        "# display(out)\n",
        "\n",
        "# def file_predict(filename, file, out):\n",
        "#     \"\"\" A function for creating the prediction and printing the output.\"\"\"\n",
        "#     image = tf.keras.utils.load_img(file, target_size=(150, 150))\n",
        "#     image = tf.keras.utils.img_to_array(image)\n",
        "#     image = np.expand_dims(image, axis=0)\n",
        "\n",
        "#     prediction = model.predict(image, verbose=0)[0][0]\n",
        "\n",
        "#     with out:\n",
        "#         if prediction > 0.5:\n",
        "#             print(filename + \" is a dog\")\n",
        "#         else:\n",
        "#             print(filename + \" is a cat\")\n",
        "\n",
        "\n",
        "# def on_upload_change(change):\n",
        "#     \"\"\" A function for getting files from the widget and running the prediction.\"\"\"\n",
        "#     items = change['new']\n",
        "#     for filename, file_info in items.items():\n",
        "#         file_jpgdata = BytesIO(file_info['content'])\n",
        "#         file_predict(filename, file_jpgdata, out)\n",
        "\n",
        "# uploader.observe(on_upload_change, names='value')"
      ],
      "metadata": {
        "id": "1sUHYOI5zwGi"
      },
      "id": "1sUHYOI5zwGi",
      "execution_count": null,
      "outputs": []
    },
    {
      "cell_type": "code",
      "source": [
        "from tensorflow.keras.preprocessing import image"
      ],
      "metadata": {
        "id": "eigWyYTEx4Ye"
      },
      "id": "eigWyYTEx4Ye",
      "execution_count": 19,
      "outputs": []
    },
    {
      "cell_type": "markdown",
      "source": [
        "here cat : 0 and dog:1.\n",
        "TensorFlow assigns class indices based on alphabetical order of the directory names."
      ],
      "metadata": {
        "id": "TlJl7tQfD2sK"
      },
      "id": "TlJl7tQfD2sK"
    },
    {
      "cell_type": "code",
      "source": [
        "model_path ='/content/dog_cat_classification.keras'\n",
        "model = tf.keras.models.load_model(model_path)"
      ],
      "metadata": {
        "id": "bzElQx1I6iPY"
      },
      "id": "bzElQx1I6iPY",
      "execution_count": 20,
      "outputs": []
    },
    {
      "cell_type": "code",
      "source": [
        "## image predictor function\n",
        "def img_predict(file):\n",
        "    \"\"\" A function for creating the prediction and printing the output.\"\"\"\n",
        "    image = tf.keras.utils.img_to_array(file)\n",
        "    image = np.expand_dims(image, axis=0)\n",
        "\n",
        "    prediction = model.predict(image, verbose=0)[0][0]\n",
        "    return 1 if prediction >0.5 else 0"
      ],
      "metadata": {
        "id": "E0q0fGVfDlga"
      },
      "id": "E0q0fGVfDlga",
      "execution_count": 21,
      "outputs": []
    },
    {
      "cell_type": "code",
      "source": [
        "import pandas as pd\n",
        "test_df = pd.DataFrame(columns=['id', 'label'])\n",
        "test_df"
      ],
      "metadata": {
        "id": "c61Mal2fJo7p",
        "outputId": "4bfb64a9-f4b5-4b7e-ea2b-803ea217faef",
        "colab": {
          "base_uri": "https://localhost:8080/",
          "height": 89
        }
      },
      "id": "c61Mal2fJo7p",
      "execution_count": 22,
      "outputs": [
        {
          "output_type": "execute_result",
          "data": {
            "text/plain": [
              "Empty DataFrame\n",
              "Columns: [id, label]\n",
              "Index: []"
            ],
            "text/html": [
              "\n",
              "  <div id=\"df-d2f9531d-56bc-4763-aa3d-4d608d910824\" class=\"colab-df-container\">\n",
              "    <div>\n",
              "<style scoped>\n",
              "    .dataframe tbody tr th:only-of-type {\n",
              "        vertical-align: middle;\n",
              "    }\n",
              "\n",
              "    .dataframe tbody tr th {\n",
              "        vertical-align: top;\n",
              "    }\n",
              "\n",
              "    .dataframe thead th {\n",
              "        text-align: right;\n",
              "    }\n",
              "</style>\n",
              "<table border=\"1\" class=\"dataframe\">\n",
              "  <thead>\n",
              "    <tr style=\"text-align: right;\">\n",
              "      <th></th>\n",
              "      <th>id</th>\n",
              "      <th>label</th>\n",
              "    </tr>\n",
              "  </thead>\n",
              "  <tbody>\n",
              "  </tbody>\n",
              "</table>\n",
              "</div>\n",
              "    <div class=\"colab-df-buttons\">\n",
              "\n",
              "  <div class=\"colab-df-container\">\n",
              "    <button class=\"colab-df-convert\" onclick=\"convertToInteractive('df-d2f9531d-56bc-4763-aa3d-4d608d910824')\"\n",
              "            title=\"Convert this dataframe to an interactive table.\"\n",
              "            style=\"display:none;\">\n",
              "\n",
              "  <svg xmlns=\"http://www.w3.org/2000/svg\" height=\"24px\" viewBox=\"0 -960 960 960\">\n",
              "    <path d=\"M120-120v-720h720v720H120Zm60-500h600v-160H180v160Zm220 220h160v-160H400v160Zm0 220h160v-160H400v160ZM180-400h160v-160H180v160Zm440 0h160v-160H620v160ZM180-180h160v-160H180v160Zm440 0h160v-160H620v160Z\"/>\n",
              "  </svg>\n",
              "    </button>\n",
              "\n",
              "  <style>\n",
              "    .colab-df-container {\n",
              "      display:flex;\n",
              "      gap: 12px;\n",
              "    }\n",
              "\n",
              "    .colab-df-convert {\n",
              "      background-color: #E8F0FE;\n",
              "      border: none;\n",
              "      border-radius: 50%;\n",
              "      cursor: pointer;\n",
              "      display: none;\n",
              "      fill: #1967D2;\n",
              "      height: 32px;\n",
              "      padding: 0 0 0 0;\n",
              "      width: 32px;\n",
              "    }\n",
              "\n",
              "    .colab-df-convert:hover {\n",
              "      background-color: #E2EBFA;\n",
              "      box-shadow: 0px 1px 2px rgba(60, 64, 67, 0.3), 0px 1px 3px 1px rgba(60, 64, 67, 0.15);\n",
              "      fill: #174EA6;\n",
              "    }\n",
              "\n",
              "    .colab-df-buttons div {\n",
              "      margin-bottom: 4px;\n",
              "    }\n",
              "\n",
              "    [theme=dark] .colab-df-convert {\n",
              "      background-color: #3B4455;\n",
              "      fill: #D2E3FC;\n",
              "    }\n",
              "\n",
              "    [theme=dark] .colab-df-convert:hover {\n",
              "      background-color: #434B5C;\n",
              "      box-shadow: 0px 1px 3px 1px rgba(0, 0, 0, 0.15);\n",
              "      filter: drop-shadow(0px 1px 2px rgba(0, 0, 0, 0.3));\n",
              "      fill: #FFFFFF;\n",
              "    }\n",
              "  </style>\n",
              "\n",
              "    <script>\n",
              "      const buttonEl =\n",
              "        document.querySelector('#df-d2f9531d-56bc-4763-aa3d-4d608d910824 button.colab-df-convert');\n",
              "      buttonEl.style.display =\n",
              "        google.colab.kernel.accessAllowed ? 'block' : 'none';\n",
              "\n",
              "      async function convertToInteractive(key) {\n",
              "        const element = document.querySelector('#df-d2f9531d-56bc-4763-aa3d-4d608d910824');\n",
              "        const dataTable =\n",
              "          await google.colab.kernel.invokeFunction('convertToInteractive',\n",
              "                                                    [key], {});\n",
              "        if (!dataTable) return;\n",
              "\n",
              "        const docLinkHtml = 'Like what you see? Visit the ' +\n",
              "          '<a target=\"_blank\" href=https://colab.research.google.com/notebooks/data_table.ipynb>data table notebook</a>'\n",
              "          + ' to learn more about interactive tables.';\n",
              "        element.innerHTML = '';\n",
              "        dataTable['output_type'] = 'display_data';\n",
              "        await google.colab.output.renderOutput(dataTable, element);\n",
              "        const docLink = document.createElement('div');\n",
              "        docLink.innerHTML = docLinkHtml;\n",
              "        element.appendChild(docLink);\n",
              "      }\n",
              "    </script>\n",
              "  </div>\n",
              "\n",
              "\n",
              "  <div id=\"id_65bd24d7-9aee-4d7e-9dc5-f19784877a50\">\n",
              "    <style>\n",
              "      .colab-df-generate {\n",
              "        background-color: #E8F0FE;\n",
              "        border: none;\n",
              "        border-radius: 50%;\n",
              "        cursor: pointer;\n",
              "        display: none;\n",
              "        fill: #1967D2;\n",
              "        height: 32px;\n",
              "        padding: 0 0 0 0;\n",
              "        width: 32px;\n",
              "      }\n",
              "\n",
              "      .colab-df-generate:hover {\n",
              "        background-color: #E2EBFA;\n",
              "        box-shadow: 0px 1px 2px rgba(60, 64, 67, 0.3), 0px 1px 3px 1px rgba(60, 64, 67, 0.15);\n",
              "        fill: #174EA6;\n",
              "      }\n",
              "\n",
              "      [theme=dark] .colab-df-generate {\n",
              "        background-color: #3B4455;\n",
              "        fill: #D2E3FC;\n",
              "      }\n",
              "\n",
              "      [theme=dark] .colab-df-generate:hover {\n",
              "        background-color: #434B5C;\n",
              "        box-shadow: 0px 1px 3px 1px rgba(0, 0, 0, 0.15);\n",
              "        filter: drop-shadow(0px 1px 2px rgba(0, 0, 0, 0.3));\n",
              "        fill: #FFFFFF;\n",
              "      }\n",
              "    </style>\n",
              "    <button class=\"colab-df-generate\" onclick=\"generateWithVariable('test_df')\"\n",
              "            title=\"Generate code using this dataframe.\"\n",
              "            style=\"display:none;\">\n",
              "\n",
              "  <svg xmlns=\"http://www.w3.org/2000/svg\" height=\"24px\"viewBox=\"0 0 24 24\"\n",
              "       width=\"24px\">\n",
              "    <path d=\"M7,19H8.4L18.45,9,17,7.55,7,17.6ZM5,21V16.75L18.45,3.32a2,2,0,0,1,2.83,0l1.4,1.43a1.91,1.91,0,0,1,.58,1.4,1.91,1.91,0,0,1-.58,1.4L9.25,21ZM18.45,9,17,7.55Zm-12,3A5.31,5.31,0,0,0,4.9,8.1,5.31,5.31,0,0,0,1,6.5,5.31,5.31,0,0,0,4.9,4.9,5.31,5.31,0,0,0,6.5,1,5.31,5.31,0,0,0,8.1,4.9,5.31,5.31,0,0,0,12,6.5,5.46,5.46,0,0,0,6.5,12Z\"/>\n",
              "  </svg>\n",
              "    </button>\n",
              "    <script>\n",
              "      (() => {\n",
              "      const buttonEl =\n",
              "        document.querySelector('#id_65bd24d7-9aee-4d7e-9dc5-f19784877a50 button.colab-df-generate');\n",
              "      buttonEl.style.display =\n",
              "        google.colab.kernel.accessAllowed ? 'block' : 'none';\n",
              "\n",
              "      buttonEl.onclick = () => {\n",
              "        google.colab.notebook.generateWithVariable('test_df');\n",
              "      }\n",
              "      })();\n",
              "    </script>\n",
              "  </div>\n",
              "\n",
              "    </div>\n",
              "  </div>\n"
            ],
            "application/vnd.google.colaboratory.intrinsic+json": {
              "type": "dataframe",
              "variable_name": "test_df",
              "repr_error": "Out of range float values are not JSON compliant: nan"
            }
          },
          "metadata": {},
          "execution_count": 22
        }
      ]
    },
    {
      "cell_type": "code",
      "source": [
        "base_test_dir = '/content/cat_vs_dog/test/test1'\n",
        "test_files = os.listdir(base_test_dir)\n",
        "\n",
        "\n",
        "\n",
        "for i, filename in enumerate(test_files):\n",
        "  test_files_path = os.path.join(base_test_dir, filename)\n",
        "  img_size= (150, 150)\n",
        "  test_img = image.load_img(test_files_path, target_size=img_size)\n",
        "  label = img_predict(test_img)\n",
        "  test_df.loc[i] = [filename, label]\n",
        "\n",
        "## for single image prediction\n",
        "# -----------------------------\n",
        "# test_image_dir= '/content/cat_vs_dog/test/test1/10115.jpg'\n",
        "# IMG_SIZE=(150, 150)\n",
        "# test_img = image.load_img(test_image_dir, target_size=IMG_SIZE)\n",
        "# test_img"
      ],
      "metadata": {
        "id": "Ke8jDnogs2e1"
      },
      "id": "Ke8jDnogs2e1",
      "execution_count": 23,
      "outputs": []
    },
    {
      "cell_type": "code",
      "source": [
        "test_df.to_csv('test_data_prediction.csv')"
      ],
      "metadata": {
        "id": "itDb-kXGCwoR"
      },
      "id": "itDb-kXGCwoR",
      "execution_count": null,
      "outputs": []
    }
  ],
  "metadata": {
    "colab": {
      "provenance": [],
      "gpuType": "T4"
    },
    "language_info": {
      "name": "python"
    },
    "kernelspec": {
      "name": "python3",
      "display_name": "Python 3"
    },
    "accelerator": "GPU"
  },
  "nbformat": 4,
  "nbformat_minor": 5
}