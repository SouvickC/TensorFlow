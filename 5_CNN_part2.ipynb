{
  "cells": [
    {
      "cell_type": "code",
      "source": [
        "# Create the .kaggle directory\n",
        "!mkdir -p ~/.kaggle\n",
        "\n",
        "# Move the kaggle.json file (assumes it is in the current working directory)\n",
        "!mv kaggle.json ~/.kaggle/\n",
        "!chmod 600 ~/.kaggle/kaggle.json\n",
        "!kaggle datasets list\n",
        "\n",
        "\n",
        "!kaggle competitions download -c dogs-vs-cats\n",
        "\n"
      ],
      "metadata": {
        "id": "BMh5uzVaLIWo",
        "outputId": "c5a5e11d-b4c3-4d8c-fa4d-edadaf4958bd",
        "colab": {
          "base_uri": "https://localhost:8080/"
        }
      },
      "id": "BMh5uzVaLIWo",
      "execution_count": 4,
      "outputs": [
        {
          "output_type": "stream",
          "name": "stdout",
          "text": [
            "mv: cannot stat 'kaggle.json': No such file or directory\n",
            "ref                                                          title                                                     size  lastUpdated                 downloadCount  voteCount  usabilityRating  \n",
            "-----------------------------------------------------------  --------------------------------------------------  ----------  --------------------------  -------------  ---------  ---------------  \n",
            "jayaantanaath/student-habits-vs-academic-performance         Student Habits vs Academic Performance                   19512  2025-04-12 10:49:08.663000          18675        319  1.0              \n",
            "adilshamim8/cost-of-international-education                  Cost of International Education                          18950  2025-05-07 15:41:53.213000           2289         37  1.0              \n",
            "fatemehmohammadinia/heart-attack-dataset-tarik-a-rashid      Heart Attack Dataset                                     16250  2025-04-30 21:58:22.740000           3361         59  1.0              \n",
            "glowstudygram/spotify-songs-and-artists-dataset              Spotify Songs and Artists Dataset | Audio Features       68415  2025-04-27 12:38:36.850000           1432         23  0.8235294        \n",
            "ivankmk/thousand-ml-jobs-in-usa                              Machine Learning Job Postings in the US                1682058  2025-04-20 16:11:59.347000           2224         42  1.0              \n",
            "khushikyad001/impact-of-screen-time-on-mental-health         Impact of Screen Time on Mental Health                   64873  2025-04-20 18:01:47.570000           2109         40  1.0              \n",
            "umeradnaan/daily-social-media-active-users                   Daily Social Media Active Users                         126814  2025-05-05 02:11:50.873000           1320         21  1.0              \n",
            "adilshamim8/greenhouse-plant-growth-metrics                  Greenhouse Plant Growth                                3041046  2025-04-19 07:33:57.787000           1471         21  1.0              \n",
            "samithsachidanandan/1000-most-trending-youtube-videos        1000 Most Trending YouTube Videos                        43395  2025-04-19 10:11:14.973000           2181         32  1.0              \n",
            "kapturovalexander/bank-credit-risk-assessment                Bank credit risk assessment 💵🏦💼                        2537159  2025-05-06 05:04:50.793000           1131         30  1.0              \n",
            "zahidmughal2343/global-cancer-patients-2015-2024             global_cancer_patients_2015_2024                       1261049  2025-04-14 00:05:23.367000           4501         54  1.0              \n",
            "palvinder2006/ola-bike-ride-request                          Ola Bike Ride Request                                   174975  2025-04-28 03:55:33.860000            794         21  1.0              \n",
            "nikolasgegenava/sneakers-classification                      Popular Sneakers Classification                       17981294  2025-05-01 12:00:45.517000           1299         35  1.0              \n",
            "adilshamim8/predict-students-dropout-and-academic-success    Student Dropout & Success Prediction Dataset            106181  2025-04-23 06:34:06.433000           2135         33  1.0              \n",
            "mahdimashayekhi/fake-news-detection-dataset                  Fake News Detection Dataset                           11735585  2025-04-27 14:52:10.607000            829          7  1.0              \n",
            "khushikyad001/screen-time-and-app-usage-dataset-iosandroid   Screen Time and App Usage Dataset (iOS/Android)         157038  2025-04-19 13:23:41.067000           1788         28  1.0              \n",
            "sahirmaharajj/bird-migration-dataset-data-visualization-eda  Bird Migration Dataset (Data Visualization / EDA)      1002468  2025-04-23 18:33:29.913000           1122         23  1.0              \n",
            "zahidmughal2343/amazon-sales-2025                            Amazon Sales 2025                                         3617  2025-04-03 22:08:13.607000           7931         91  1.0              \n",
            "dansbecker/melbourne-housing-snapshot                        Melbourne Housing Snapshot                              461423  2018-06-05 12:52:24.087000         179031       1612  0.7058824        \n",
            "atharvasoundankar/impact-of-ai-on-digital-media-2020-2025    🌍 Impact of AI on Digital Media (2020-2025)               5812  2025-04-03 09:12:25.070000           6833        110  1.0              \n",
            "dogs-vs-cats.zip: Skipping, found more recently modified local copy (use --force to force download)\n"
          ]
        }
      ]
    },
    {
      "cell_type": "code",
      "source": [
        "import os\n",
        "import random\n",
        "import numpy as np\n",
        "from io import BytesIO\n",
        "\n",
        "import matplotlib.pyplot as plt\n",
        "import matplotlib.image as mpimg\n",
        "\n",
        "import tensorflow as tf\n",
        "from ipywidgets import widgets\n"
      ],
      "metadata": {
        "id": "iSOcx-7tHmJH"
      },
      "id": "iSOcx-7tHmJH",
      "execution_count": 5,
      "outputs": []
    },
    {
      "cell_type": "code",
      "source": [
        "import zipfile\n",
        "\n",
        "local_zip = '/content/dogs-vs-cats.zip'\n",
        "zip_ref = zipfile.ZipFile(local_zip, 'r')\n",
        "zip_ref.extractall('/content/cat_vs_dog')\n",
        "zip_ref.close()"
      ],
      "metadata": {
        "id": "Yq7h5-AkKme1"
      },
      "id": "Yq7h5-AkKme1",
      "execution_count": 6,
      "outputs": []
    },
    {
      "cell_type": "code",
      "source": [
        "local_zip = '/content/cat_vs_dog/test1.zip'\n",
        "zip_ref = zipfile.ZipFile(local_zip, 'r')\n",
        "zip_ref.extractall('/content/cat_vs_dog/cat_vs_dog_test')\n",
        "zip_ref.close()"
      ],
      "metadata": {
        "id": "I0boJdSLVhYZ"
      },
      "id": "I0boJdSLVhYZ",
      "execution_count": 8,
      "outputs": []
    },
    {
      "cell_type": "code",
      "source": [
        "local_zip = '/content/cat_vs_dog/train.zip'\n",
        "zip_ref = zipfile.ZipFile(local_zip, 'r')\n",
        "zip_ref.extractall('/content/cat_vs_dog/cat_vs_dog_train')\n",
        "zip_ref.close()"
      ],
      "metadata": {
        "id": "6CayqAZjVhPw"
      },
      "id": "6CayqAZjVhPw",
      "execution_count": 9,
      "outputs": []
    },
    {
      "cell_type": "code",
      "source": [
        "# currently not required\n",
        "\n",
        "BASE_DIR = '/content/cat_vs_dog'\n",
        "\n",
        "train_dir = os.path.join(BASE_DIR, 'train')\n",
        "validation_dir = os.path.join(BASE_DIR, 'validation')\n",
        "\n",
        "# Directory with training cat/dog pictures\n",
        "train_cats_dir = os.path.join(train_dir, 'cats')\n",
        "train_dogs_dir = os.path.join(train_dir, 'dogs')\n",
        "\n",
        "# Directory with validation cat/dog pictures\n",
        "validation_cats_dir = os.path.join(validation_dir, 'cats')\n",
        "validation_dogs_dir = os.path.join(validation_dir, 'dogs')\n",
        "\n",
        "\n",
        "print(f\"Contents of base directory: {os.listdir(BASE_DIR)}\")\n",
        "\n",
        "print(f\"\\nContents of train directory: {train_dir}\")\n",
        "\n",
        "print(f\"\\nContents of validation directory: {validation_dir}\")"
      ],
      "metadata": {
        "id": "XoScBgmHKmc0"
      },
      "id": "XoScBgmHKmc0",
      "execution_count": 11,
      "outputs": []
    },
    {
      "cell_type": "code",
      "source": [
        "\n",
        "test_cats_dir = '/content/cat_vs_dog/cat_vs_dog_test/test1'\n",
        "train_cat_fnames = os.listdir(train_cats_dir)\n",
        "train_dog_fnames = os.listdir(train_dogs_dir)\n",
        "\n",
        "print(f\"5 files in cats subdir: {train_cat_fnames[:5]}\")\n",
        "print(f\"5 files in dogs subdir: {train_dog_fnames[:5]}\")"
      ],
      "metadata": {
        "id": "_HbBLnKhKmaw",
        "outputId": "2d22ca06-0967-4f1e-f1d2-4b6b7b0297f5",
        "colab": {
          "base_uri": "https://localhost:8080/",
          "height": 211
        }
      },
      "id": "_HbBLnKhKmaw",
      "execution_count": null,
      "outputs": [
        {
          "output_type": "error",
          "ename": "FileNotFoundError",
          "evalue": "[Errno 2] No such file or directory: '/content/cat_vs_dog/train/cats'",
          "traceback": [
            "\u001b[0;31m---------------------------------------------------------------------------\u001b[0m",
            "\u001b[0;31mFileNotFoundError\u001b[0m                         Traceback (most recent call last)",
            "\u001b[0;32m<ipython-input-14-679505e1df5a>\u001b[0m in \u001b[0;36m<cell line: 0>\u001b[0;34m()\u001b[0m\n\u001b[0;32m----> 1\u001b[0;31m \u001b[0mtrain_cat_fnames\u001b[0m \u001b[0;34m=\u001b[0m \u001b[0mos\u001b[0m\u001b[0;34m.\u001b[0m\u001b[0mlistdir\u001b[0m\u001b[0;34m(\u001b[0m\u001b[0mtrain_cats_dir\u001b[0m\u001b[0;34m)\u001b[0m\u001b[0;34m\u001b[0m\u001b[0;34m\u001b[0m\u001b[0m\n\u001b[0m\u001b[1;32m      2\u001b[0m \u001b[0mtrain_dog_fnames\u001b[0m \u001b[0;34m=\u001b[0m \u001b[0mos\u001b[0m\u001b[0;34m.\u001b[0m\u001b[0mlistdir\u001b[0m\u001b[0;34m(\u001b[0m\u001b[0mtrain_dogs_dir\u001b[0m\u001b[0;34m)\u001b[0m\u001b[0;34m\u001b[0m\u001b[0;34m\u001b[0m\u001b[0m\n\u001b[1;32m      3\u001b[0m \u001b[0;34m\u001b[0m\u001b[0m\n\u001b[1;32m      4\u001b[0m \u001b[0mprint\u001b[0m\u001b[0;34m(\u001b[0m\u001b[0;34mf\"5 files in cats subdir: {train_cat_fnames[:5]}\"\u001b[0m\u001b[0;34m)\u001b[0m\u001b[0;34m\u001b[0m\u001b[0;34m\u001b[0m\u001b[0m\n\u001b[1;32m      5\u001b[0m \u001b[0mprint\u001b[0m\u001b[0;34m(\u001b[0m\u001b[0;34mf\"5 files in dogs subdir: {train_dog_fnames[:5]}\"\u001b[0m\u001b[0;34m)\u001b[0m\u001b[0;34m\u001b[0m\u001b[0;34m\u001b[0m\u001b[0m\n",
            "\u001b[0;31mFileNotFoundError\u001b[0m: [Errno 2] No such file or directory: '/content/cat_vs_dog/train/cats'"
          ]
        }
      ]
    },
    {
      "cell_type": "code",
      "source": [],
      "metadata": {
        "id": "M1HFidkgKmYp"
      },
      "id": "M1HFidkgKmYp",
      "execution_count": null,
      "outputs": []
    },
    {
      "cell_type": "code",
      "source": [],
      "metadata": {
        "id": "4reTvz4jKmWu"
      },
      "id": "4reTvz4jKmWu",
      "execution_count": null,
      "outputs": []
    },
    {
      "cell_type": "code",
      "source": [],
      "metadata": {
        "id": "eGF6-0RZKmUh"
      },
      "id": "eGF6-0RZKmUh",
      "execution_count": null,
      "outputs": []
    },
    {
      "cell_type": "code",
      "source": [],
      "metadata": {
        "id": "qoSNyqryKmSn"
      },
      "id": "qoSNyqryKmSn",
      "execution_count": null,
      "outputs": []
    },
    {
      "cell_type": "code",
      "source": [],
      "metadata": {
        "id": "ADZgFPQ_KmP6"
      },
      "id": "ADZgFPQ_KmP6",
      "execution_count": null,
      "outputs": []
    }
  ],
  "metadata": {
    "colab": {
      "provenance": []
    },
    "language_info": {
      "name": "python"
    },
    "kernelspec": {
      "name": "python3",
      "display_name": "Python 3"
    }
  },
  "nbformat": 4,
  "nbformat_minor": 5
}