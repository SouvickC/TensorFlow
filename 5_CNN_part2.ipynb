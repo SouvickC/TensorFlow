{
  "cells": [
    {
      "cell_type": "code",
      "source": [
        "import os\n",
        "import random\n",
        "import numpy as np\n",
        "from io import BytesIO\n",
        "\n",
        "import matplotlib.pyplot as plt\n",
        "import matplotlib.image as mpimg\n",
        "\n",
        "import tensorflow as tf\n",
        "from ipywidgets import widgets\n"
      ],
      "metadata": {
        "id": "iSOcx-7tHmJH"
      },
      "id": "iSOcx-7tHmJH",
      "execution_count": 2,
      "outputs": []
    },
    {
      "cell_type": "markdown",
      "source": [
        "## Importing data and Feature Engineering"
      ],
      "metadata": {
        "id": "MKfYgurzwuDX"
      },
      "id": "MKfYgurzwuDX"
    },
    {
      "cell_type": "code",
      "source": [
        "# Create the .kaggle directory\n",
        "!mkdir -p ~/.kaggle\n",
        "\n",
        "# create kaggle Move the kaggle.json file (assumes it is in the current working directory)\n",
        "!mv kaggle.json ~/.kaggle/\n",
        "!chmod 600 ~/.kaggle/kaggle.json\n",
        "!kaggle datasets list\n",
        "\n",
        "!kaggle competitions download -c dogs-vs-cats\n",
        "\n"
      ],
      "metadata": {
        "id": "BMh5uzVaLIWo",
        "outputId": "b5ea268d-79b1-490e-9dad-890ee141c8ec",
        "colab": {
          "base_uri": "https://localhost:8080/"
        }
      },
      "id": "BMh5uzVaLIWo",
      "execution_count": 1,
      "outputs": [
        {
          "output_type": "stream",
          "name": "stdout",
          "text": [
            "ref                                                          title                                                     size  lastUpdated                 downloadCount  voteCount  usabilityRating  \n",
            "-----------------------------------------------------------  --------------------------------------------------  ----------  --------------------------  -------------  ---------  ---------------  \n",
            "jayaantanaath/student-habits-vs-academic-performance         Student Habits vs Academic Performance                   19512  2025-04-12 10:49:08.663000          18770        321  1.0              \n",
            "adilshamim8/cost-of-international-education                  Cost of International Education                          18950  2025-05-07 15:41:53.213000           2337         39  1.0              \n",
            "fatemehmohammadinia/heart-attack-dataset-tarik-a-rashid      Heart Attack Dataset                                     16250  2025-04-30 21:58:22.740000           3375         59  1.0              \n",
            "glowstudygram/spotify-songs-and-artists-dataset              Spotify Songs and Artists Dataset | Audio Features       68415  2025-04-27 12:38:36.850000           1444         23  0.8235294        \n",
            "ivankmk/thousand-ml-jobs-in-usa                              Machine Learning Job Postings in the US                1682058  2025-04-20 16:11:59.347000           2254         43  1.0              \n",
            "khushikyad001/impact-of-screen-time-on-mental-health         Impact of Screen Time on Mental Health                   64873  2025-04-20 18:01:47.570000           2125         40  1.0              \n",
            "umeradnaan/daily-social-media-active-users                   Daily Social Media Active Users                         126814  2025-05-05 02:11:50.873000           1320         21  1.0              \n",
            "adilshamim8/greenhouse-plant-growth-metrics                  Greenhouse Plant Growth                                3041046  2025-04-19 07:33:57.787000           1474         21  1.0              \n",
            "samithsachidanandan/1000-most-trending-youtube-videos        1000 Most Trending YouTube Videos                        43395  2025-04-19 10:11:14.973000           2183         32  1.0              \n",
            "kapturovalexander/bank-credit-risk-assessment                Bank credit risk assessment 💵🏦💼                        2537159  2025-05-06 05:04:50.793000           1137         30  1.0              \n",
            "zahidmughal2343/global-cancer-patients-2015-2024             global_cancer_patients_2015_2024                       1261049  2025-04-14 00:05:23.367000           4509         54  1.0              \n",
            "palvinder2006/ola-bike-ride-request                          Ola Bike Ride Request                                   174975  2025-04-28 03:55:33.860000            795         21  1.0              \n",
            "nikolasgegenava/sneakers-classification                      Popular Sneakers Classification                       17981294  2025-05-01 12:00:45.517000           1300         35  1.0              \n",
            "adilshamim8/predict-students-dropout-and-academic-success    Student Dropout & Success Prediction Dataset            106181  2025-04-23 06:34:06.433000           2146         33  1.0              \n",
            "mahdimashayekhi/fake-news-detection-dataset                  Fake News Detection Dataset                           11735585  2025-04-27 14:52:10.607000            838          8  1.0              \n",
            "khushikyad001/screen-time-and-app-usage-dataset-iosandroid   Screen Time and App Usage Dataset (iOS/Android)         157038  2025-04-19 13:23:41.067000           1788         28  1.0              \n",
            "sahirmaharajj/bird-migration-dataset-data-visualization-eda  Bird Migration Dataset (Data Visualization / EDA)      1002468  2025-04-23 18:33:29.913000           1126         23  1.0              \n",
            "zahidmughal2343/amazon-sales-2025                            Amazon Sales 2025                                         3617  2025-04-03 22:08:13.607000           7937         91  1.0              \n",
            "dansbecker/melbourne-housing-snapshot                        Melbourne Housing Snapshot                              461423  2018-06-05 12:52:24.087000         179037       1612  0.7058824        \n",
            "atharvasoundankar/impact-of-ai-on-digital-media-2020-2025    🌍 Impact of AI on Digital Media (2020-2025)               5812  2025-04-03 09:12:25.070000           6841        110  1.0              \n"
          ]
        }
      ]
    },
    {
      "cell_type": "code",
      "source": [
        "import zipfile\n",
        "\n",
        "local_zip = '/content/dogs-vs-cats.zip'\n",
        "zip_ref = zipfile.ZipFile(local_zip, 'r')\n",
        "zip_ref.extractall('/content/cat_vs_dog')\n",
        "zip_ref.close()"
      ],
      "metadata": {
        "id": "Yq7h5-AkKme1"
      },
      "id": "Yq7h5-AkKme1",
      "execution_count": 3,
      "outputs": []
    },
    {
      "cell_type": "code",
      "source": [
        "base_dir = '/content/cat_vs_dog'\n",
        "train_zip_path = os.path.join(base_dir, 'train.zip')\n",
        "test_zip_path = os.path.join(base_dir, 'test1.zip')\n",
        "train_extract_path = os.path.join(base_dir, 'train')\n",
        "test_extract_path = os.path.join(base_dir, 'test')\n",
        "\n",
        "\n",
        "# Extract training data\n",
        "with zipfile.ZipFile(train_zip_path, 'r') as zip_ref:\n",
        "    zip_ref.extractall(train_extract_path)\n",
        "\n",
        "# Extract test data\n",
        "with zipfile.ZipFile(test_zip_path, 'r') as zip_ref:\n",
        "    zip_ref.extractall(test_extract_path)\n"
      ],
      "metadata": {
        "id": "XoScBgmHKmc0"
      },
      "id": "XoScBgmHKmc0",
      "execution_count": 4,
      "outputs": []
    },
    {
      "cell_type": "code",
      "source": [
        "# Check number of files in train and test directories\n",
        "train_extract_path = os.path.join(train_extract_path, 'train')\n",
        "test_extract_path = os.path.join(test_extract_path, 'test1')\n",
        "\n",
        "print(\"Number of training images:\", len(os.listdir(train_extract_path)))\n",
        "print(\"Number of test images:\", len(os.listdir(test_extract_path)))\n"
      ],
      "metadata": {
        "id": "L5X_vqMIdN7W",
        "outputId": "d198d97e-c330-4b9b-dc2b-46d70953e453",
        "colab": {
          "base_uri": "https://localhost:8080/"
        }
      },
      "id": "L5X_vqMIdN7W",
      "execution_count": 5,
      "outputs": [
        {
          "output_type": "stream",
          "name": "stdout",
          "text": [
            "Number of training images: 25000\n",
            "Number of test images: 12500\n"
          ]
        }
      ]
    },
    {
      "cell_type": "code",
      "source": [
        "# Create new directories for cats and dogs\n",
        "train_cats_dir = os.path.join(train_extract_path, 'cats')\n",
        "train_dogs_dir = os.path.join(train_extract_path, 'dogs')\n",
        "\n",
        "os.makedirs(train_cats_dir, exist_ok=True)\n",
        "os.makedirs(train_dogs_dir, exist_ok=True)\n",
        "\n"
      ],
      "metadata": {
        "id": "_HbBLnKhKmaw"
      },
      "id": "_HbBLnKhKmaw",
      "execution_count": 6,
      "outputs": []
    },
    {
      "cell_type": "code",
      "source": [
        "import shutil"
      ],
      "metadata": {
        "id": "JRMiZrPmwRXj"
      },
      "id": "JRMiZrPmwRXj",
      "execution_count": 7,
      "outputs": []
    },
    {
      "cell_type": "code",
      "source": [
        "base_train_dir = '/content/cat_vs_dog/train/train'\n",
        "# Iterate through the files in the main train directory\n",
        "\n",
        "for filename in os.listdir(base_train_dir):\n",
        "    file_path = os.path.join(base_train_dir, filename)\n",
        "\n",
        "    # Only consider files (not directories)\n",
        "    if os.path.isfile(file_path):\n",
        "        # Move to 'cats' folder\n",
        "        if filename.startswith('cat'):\n",
        "            shutil.move(file_path, os.path.join(train_cats_dir, filename))\n",
        "\n",
        "        # Move to 'dogs' folder\n",
        "        elif filename.startswith('dog'):\n",
        "            shutil.move(file_path, os.path.join(train_dogs_dir, filename))\n",
        "\n",
        "print(\"Files moved successfully!\")"
      ],
      "metadata": {
        "id": "M1HFidkgKmYp",
        "colab": {
          "base_uri": "https://localhost:8080/"
        },
        "outputId": "fb4bf5b9-a0bb-4202-c380-947f082f9fd2"
      },
      "id": "M1HFidkgKmYp",
      "execution_count": 8,
      "outputs": [
        {
          "output_type": "stream",
          "name": "stdout",
          "text": [
            "Files moved successfully!\n"
          ]
        }
      ]
    },
    {
      "cell_type": "code",
      "source": [
        "## Validation folder creation\n",
        "validation_dir = os.path.join(base_dir, 'validation')"
      ],
      "metadata": {
        "id": "4reTvz4jKmWu"
      },
      "id": "4reTvz4jKmWu",
      "execution_count": null,
      "outputs": []
    },
    {
      "cell_type": "code",
      "source": [],
      "metadata": {
        "id": "eGF6-0RZKmUh"
      },
      "id": "eGF6-0RZKmUh",
      "execution_count": null,
      "outputs": []
    },
    {
      "cell_type": "code",
      "source": [],
      "metadata": {
        "id": "qoSNyqryKmSn"
      },
      "id": "qoSNyqryKmSn",
      "execution_count": null,
      "outputs": []
    },
    {
      "cell_type": "code",
      "source": [],
      "metadata": {
        "id": "ADZgFPQ_KmP6"
      },
      "id": "ADZgFPQ_KmP6",
      "execution_count": null,
      "outputs": []
    }
  ],
  "metadata": {
    "colab": {
      "provenance": [],
      "gpuType": "T4"
    },
    "language_info": {
      "name": "python"
    },
    "kernelspec": {
      "name": "python3",
      "display_name": "Python 3"
    },
    "accelerator": "GPU"
  },
  "nbformat": 4,
  "nbformat_minor": 5
}