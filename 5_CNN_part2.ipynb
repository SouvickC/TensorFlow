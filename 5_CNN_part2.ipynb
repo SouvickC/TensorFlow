{
  "cells": [
    {
      "cell_type": "code",
      "source": [
        "import os\n",
        "import random\n",
        "import numpy as np\n",
        "from io import BytesIO\n",
        "\n",
        "import matplotlib.pyplot as plt\n",
        "import matplotlib.image as mpimg\n",
        "\n",
        "import tensorflow as tf\n",
        "from ipywidgets import widgets\n"
      ],
      "metadata": {
        "id": "iSOcx-7tHmJH"
      },
      "id": "iSOcx-7tHmJH",
      "execution_count": 5,
      "outputs": []
    },
    {
      "cell_type": "markdown",
      "source": [
        "## Importing data and Feature Engineering"
      ],
      "metadata": {
        "id": "MKfYgurzwuDX"
      },
      "id": "MKfYgurzwuDX"
    },
    {
      "cell_type": "code",
      "source": [
        "# Create the .kaggle directory\n",
        "!mkdir -p ~/.kaggle\n",
        "\n",
        "# create kaggle Move the kaggle.json file (assumes it is in the current working directory)\n",
        "!mv kaggle.json ~/.kaggle/\n",
        "!chmod 600 ~/.kaggle/kaggle.json\n",
        "!kaggle datasets list\n",
        "\n",
        "!kaggle competitions download -c dogs-vs-cats\n",
        "\n"
      ],
      "metadata": {
        "id": "BMh5uzVaLIWo",
        "outputId": "83943774-f7b3-4d79-989b-35b5255db968",
        "colab": {
          "base_uri": "https://localhost:8080/"
        }
      },
      "id": "BMh5uzVaLIWo",
      "execution_count": 6,
      "outputs": [
        {
          "output_type": "stream",
          "name": "stdout",
          "text": [
            "mv: cannot stat 'kaggle.json': No such file or directory\n",
            "ref                                                          title                                                     size  lastUpdated                 downloadCount  voteCount  usabilityRating  \n",
            "-----------------------------------------------------------  --------------------------------------------------  ----------  --------------------------  -------------  ---------  ---------------  \n",
            "jayaantanaath/student-habits-vs-academic-performance         Student Habits vs Academic Performance                   19512  2025-04-12 10:49:08.663000          19816        340  1.0              \n",
            "adilshamim8/cost-of-international-education                  Cost of International Education                          18950  2025-05-07 15:41:53.213000           2800         45  1.0              \n",
            "fatemehmohammadinia/heart-attack-dataset-tarik-a-rashid      Heart Attack Dataset                                     16250  2025-04-30 21:58:22.740000           3657         64  1.0              \n",
            "ivankmk/thousand-ml-jobs-in-usa                              Machine Learning Job Postings in the US                1682058  2025-04-20 16:11:59.347000           2750         53  1.0              \n",
            "glowstudygram/spotify-songs-and-artists-dataset              Spotify Songs and Artists Dataset | Audio Features       68415  2025-04-27 12:38:36.850000           1551         27  0.8235294        \n",
            "khushikyad001/impact-of-screen-time-on-mental-health         Impact of Screen Time on Mental Health                   64873  2025-04-20 18:01:47.570000           2264         41  1.0              \n",
            "aryan208/financial-transactions-dataset-for-fraud-detection  Financial Transactions Dataset for Fraud Detection   290256858  2025-05-02 09:12:28.203000            816         25  1.0              \n",
            "palvinder2006/ola-bike-ride-request                          Ola Bike Ride Request                                   174975  2025-04-28 03:55:33.860000            949         23  1.0              \n",
            "mahdimashayekhi/fake-news-detection-dataset                  Fake News Detection Dataset                           11735585  2025-04-27 14:52:10.607000           1016         11  1.0              \n",
            "umeradnaan/daily-social-media-active-users                   Daily Social Media Active Users                         126814  2025-05-05 02:11:50.873000           1377         21  1.0              \n",
            "zahidmughal2343/global-cancer-patients-2015-2024             global_cancer_patients_2015_2024                       1261049  2025-04-14 00:05:23.367000           4673         57  1.0              \n",
            "kapturovalexander/bank-credit-risk-assessment                Bank credit risk assessment 💵🏦💼                        2537159  2025-05-06 05:04:50.793000           1169         32  1.0              \n",
            "adilshamim8/greenhouse-plant-growth-metrics                  Greenhouse Plant Growth                                3041046  2025-04-19 07:33:57.787000           1547         23  1.0              \n",
            "khushikyad001/screen-time-and-app-usage-dataset-iosandroid   Screen Time and App Usage Dataset (iOS/Android)         157038  2025-04-19 13:23:41.067000           1823         29  1.0              \n",
            "adilshamim8/predict-students-dropout-and-academic-success    Student Dropout & Success Prediction Dataset            106181  2025-04-23 06:34:06.433000           2225         33  1.0              \n",
            "nikolasgegenava/sneakers-classification                      Popular Sneakers Classification                       17981294  2025-05-01 12:00:45.517000           1367         36  1.0              \n",
            "samithsachidanandan/1000-most-trending-youtube-videos        1000 Most Trending YouTube Videos                        43395  2025-04-19 10:11:14.973000           2240         34  1.0              \n",
            "zahidmughal2343/amazon-sales-2025                            Amazon Sales 2025                                         3617  2025-04-03 22:08:13.607000           8053         93  1.0              \n",
            "sahirmaharajj/bird-migration-dataset-data-visualization-eda  Bird Migration Dataset (Data Visualization / EDA)      1002468  2025-04-23 18:33:29.913000           1216         23  1.0              \n",
            "dansbecker/melbourne-housing-snapshot                        Melbourne Housing Snapshot                              461423  2018-06-05 12:52:24.087000         179135       1614  0.7058824        \n",
            "dogs-vs-cats.zip: Skipping, found more recently modified local copy (use --force to force download)\n"
          ]
        }
      ]
    },
    {
      "cell_type": "code",
      "source": [
        "import zipfile\n",
        "\n",
        "local_zip = '/content/dogs-vs-cats.zip'\n",
        "zip_ref = zipfile.ZipFile(local_zip, 'r')\n",
        "zip_ref.extractall('/content/cat_vs_dog')\n",
        "zip_ref.close()"
      ],
      "metadata": {
        "id": "Yq7h5-AkKme1"
      },
      "id": "Yq7h5-AkKme1",
      "execution_count": 7,
      "outputs": []
    },
    {
      "cell_type": "code",
      "source": [
        "base_dir = '/content/cat_vs_dog'\n",
        "train_zip_path = os.path.join(base_dir, 'train.zip')\n",
        "test_zip_path = os.path.join(base_dir, 'test1.zip')\n",
        "train_extract_path = os.path.join(base_dir, 'train')\n",
        "test_extract_path = os.path.join(base_dir, 'test')\n",
        "\n",
        "\n",
        "# Extract training data\n",
        "with zipfile.ZipFile(train_zip_path, 'r') as zip_ref:\n",
        "    zip_ref.extractall(train_extract_path)\n",
        "\n",
        "# Extract test data\n",
        "with zipfile.ZipFile(test_zip_path, 'r') as zip_ref:\n",
        "    zip_ref.extractall(test_extract_path)\n"
      ],
      "metadata": {
        "id": "XoScBgmHKmc0"
      },
      "id": "XoScBgmHKmc0",
      "execution_count": 8,
      "outputs": []
    },
    {
      "cell_type": "code",
      "source": [
        "# Check number of files in train and test directories\n",
        "train_extract_path = os.path.join(train_extract_path, 'train')\n",
        "test_extract_path = os.path.join(test_extract_path, 'test1')\n",
        "\n",
        "print(\"Number of training images:\", len(os.listdir(train_extract_path)))\n",
        "print(\"Number of test images:\", len(os.listdir(test_extract_path)))\n"
      ],
      "metadata": {
        "id": "L5X_vqMIdN7W",
        "outputId": "cd5d66d7-8652-4220-a6d6-6cb36d55659b",
        "colab": {
          "base_uri": "https://localhost:8080/"
        }
      },
      "id": "L5X_vqMIdN7W",
      "execution_count": 9,
      "outputs": [
        {
          "output_type": "stream",
          "name": "stdout",
          "text": [
            "Number of training images: 25000\n",
            "Number of test images: 12500\n"
          ]
        }
      ]
    },
    {
      "cell_type": "code",
      "source": [
        "# Create new directories for cats and dogs\n",
        "train_cats_dir = os.path.join(train_extract_path, 'cats')\n",
        "train_dogs_dir = os.path.join(train_extract_path, 'dogs')\n",
        "\n",
        "os.makedirs(train_cats_dir, exist_ok=True)\n",
        "os.makedirs(train_dogs_dir, exist_ok=True)\n",
        "\n"
      ],
      "metadata": {
        "id": "_HbBLnKhKmaw"
      },
      "id": "_HbBLnKhKmaw",
      "execution_count": 10,
      "outputs": []
    },
    {
      "cell_type": "code",
      "source": [],
      "metadata": {
        "id": "tXaxk2NLsosm"
      },
      "id": "tXaxk2NLsosm",
      "execution_count": 10,
      "outputs": []
    },
    {
      "cell_type": "code",
      "source": [
        "import shutil"
      ],
      "metadata": {
        "id": "JRMiZrPmwRXj"
      },
      "id": "JRMiZrPmwRXj",
      "execution_count": 11,
      "outputs": []
    },
    {
      "cell_type": "code",
      "source": [
        "base_train_dir = '/content/cat_vs_dog/train/train'\n",
        "# Iterate through the files in the main train directory\n",
        "\n",
        "for filename in os.listdir(base_train_dir):\n",
        "    file_path = os.path.join(base_train_dir, filename)\n",
        "\n",
        "    # Only consider files (not directories)\n",
        "    if os.path.isfile(file_path):\n",
        "        # Move to 'cats' folder\n",
        "        if filename.startswith('cat'):\n",
        "            shutil.move(file_path, os.path.join(train_cats_dir, filename))\n",
        "\n",
        "        # Move to 'dogs' folder\n",
        "        elif filename.startswith('dog'):\n",
        "            shutil.move(file_path, os.path.join(train_dogs_dir, filename))\n",
        "\n",
        "print(\"Files moved successfully!\")"
      ],
      "metadata": {
        "id": "M1HFidkgKmYp",
        "outputId": "39446e42-dbe1-4696-c8a1-2b4cbe6b905c",
        "colab": {
          "base_uri": "https://localhost:8080/"
        }
      },
      "id": "M1HFidkgKmYp",
      "execution_count": 12,
      "outputs": [
        {
          "output_type": "stream",
          "name": "stdout",
          "text": [
            "Files moved successfully!\n"
          ]
        }
      ]
    },
    {
      "cell_type": "code",
      "source": [
        "## Validation folder creation\n",
        "base_train_dir = '/content/cat_vs_dog'\n",
        "\n",
        "# Define paths\n",
        "val_dir = os.path.join(base_train_dir, 'val')\n",
        "os.makedirs(os.path.join(val_dir, 'cats'), exist_ok=True)\n",
        "os.makedirs(os.path.join(val_dir, 'dogs'), exist_ok=True)\n"
      ],
      "metadata": {
        "id": "4reTvz4jKmWu"
      },
      "id": "4reTvz4jKmWu",
      "execution_count": 13,
      "outputs": []
    },
    {
      "cell_type": "code",
      "source": [
        "print(train_cats_dir)\n"
      ],
      "metadata": {
        "id": "4dziLexVvyKC",
        "outputId": "b9e468a3-b122-4162-8978-81506fc01abd",
        "colab": {
          "base_uri": "https://localhost:8080/"
        }
      },
      "id": "4dziLexVvyKC",
      "execution_count": 14,
      "outputs": [
        {
          "output_type": "stream",
          "name": "stdout",
          "text": [
            "/content/cat_vs_dog/train/train/cats\n"
          ]
        }
      ]
    },
    {
      "cell_type": "code",
      "source": [
        "from sklearn.model_selection import train_test_split"
      ],
      "metadata": {
        "id": "Th4WlnHZvFuP"
      },
      "id": "Th4WlnHZvFuP",
      "execution_count": 15,
      "outputs": []
    },
    {
      "cell_type": "code",
      "source": [
        "val_cats_dir = '/content/cat_vs_dog/val/cats'\n",
        "os.makedirs(val_cats_dir, exist_ok=True)\n",
        "\n",
        "\n",
        "# Split ratio\n",
        "split_ratio = 0.8\n",
        "\n",
        "## making the list from the files\n",
        "cat_files = os.listdir(train_cats_dir)\n",
        "\n",
        "# Split Cats\n",
        "train_cats, val_cats = train_test_split(cat_files, train_size=split_ratio, random_state=42)\n",
        "\n",
        "for filename in val_cats:\n",
        "\n",
        "  ## creating the source and destination path directory\n",
        "    src_path = os.path.join(train_cats_dir, filename)\n",
        "    dest_path = os.path.join(val_cats_dir, filename)\n",
        "\n",
        "    # Move only if it is a file\n",
        "    if os.path.isfile(src_path):\n",
        "        shutil.move(src_path, dest_path)\n",
        "\n",
        "\n",
        "print(\"Files moved successfully!\")"
      ],
      "metadata": {
        "id": "eGF6-0RZKmUh",
        "outputId": "549e418a-c0c7-4a58-babb-fcba3e2d2968",
        "colab": {
          "base_uri": "https://localhost:8080/"
        }
      },
      "id": "eGF6-0RZKmUh",
      "execution_count": 16,
      "outputs": [
        {
          "output_type": "stream",
          "name": "stdout",
          "text": [
            "Files moved successfully!\n"
          ]
        }
      ]
    },
    {
      "cell_type": "code",
      "source": [
        "val_dogs_dir = '/content/cat_vs_dog/val/dogs'\n",
        "os.makedirs(val_dogs_dir, exist_ok=True)\n",
        "\n",
        "\n",
        "# Split ratio\n",
        "split_ratio = 0.8\n",
        "\n",
        "## making the list from the files\n",
        "dog_files = os.listdir(train_dogs_dir)\n",
        "\n",
        "# Split Cats\n",
        "train_dogs, val_dogs = train_test_split(dog_files, train_size=split_ratio, random_state=42)\n",
        "\n",
        "for filename in val_dogs:\n",
        "\n",
        "  ## creating the source and destination path directory\n",
        "    src_path = os.path.join(train_dogs_dir, filename)\n",
        "    dest_path = os.path.join(val_dogs_dir, filename)\n",
        "\n",
        "    # Move only if it is a file\n",
        "    if os.path.isfile(src_path):\n",
        "        shutil.move(src_path, dest_path)\n",
        "\n",
        "\n",
        "print(\"Files moved successfully!\")"
      ],
      "metadata": {
        "id": "qoSNyqryKmSn",
        "outputId": "cd5eafc7-a0d0-4321-cfac-bae7ebe90f02",
        "colab": {
          "base_uri": "https://localhost:8080/"
        }
      },
      "id": "qoSNyqryKmSn",
      "execution_count": 17,
      "outputs": [
        {
          "output_type": "stream",
          "name": "stdout",
          "text": [
            "Files moved successfully!\n"
          ]
        }
      ]
    },
    {
      "cell_type": "code",
      "source": [
        "print(\"Number of training Cat images:\", len(os.listdir(train_cats_dir)))\n",
        "print(\"Number of training Dog images:\", len(os.listdir(train_dogs_dir)))\n",
        "\n",
        "print(\"Number of validation Cat images:\", len(os.listdir(val_cats_dir)))\n",
        "print(\"Number of validation Dog images:\", len(os.listdir(val_dogs_dir)))"
      ],
      "metadata": {
        "id": "ADZgFPQ_KmP6",
        "outputId": "81657f18-b43b-4b74-94f5-f5e3878f9251",
        "colab": {
          "base_uri": "https://localhost:8080/"
        }
      },
      "id": "ADZgFPQ_KmP6",
      "execution_count": 18,
      "outputs": [
        {
          "output_type": "stream",
          "name": "stdout",
          "text": [
            "Number of training Cat images: 10000\n",
            "Number of training Dog images: 10000\n",
            "Number of validation Cat images: 2500\n",
            "Number of validation Dog images: 2500\n"
          ]
        }
      ]
    },
    {
      "cell_type": "markdown",
      "source": [
        "## Model Building and training"
      ],
      "metadata": {
        "id": "O5qhmFIf0ayH"
      },
      "id": "O5qhmFIf0ayH"
    },
    {
      "cell_type": "code",
      "source": [
        "model = tf.keras.models.Sequential([\n",
        "    # Rescale the image. Note the input shape is the desired size of the image: 150x150 with 3 bytes for color\n",
        "\n",
        "    tf.keras.Input(shape=(150, 150, 3)),\n",
        "    tf.keras.layers.Rescaling(1./255),\n",
        "\n",
        "    # Convolution and Pooling layers\n",
        "    tf.keras.layers.Conv2D(16, (3,3), activation='relu'),\n",
        "    tf.keras.layers.MaxPooling2D(2,2),\n",
        "    tf.keras.layers.Conv2D(32, (3,3), activation='relu'),\n",
        "    tf.keras.layers.MaxPooling2D(2,2),\n",
        "    tf.keras.layers.Conv2D(64, (3,3), activation='relu'),\n",
        "    tf.keras.layers.MaxPooling2D(2,2),\n",
        "\n",
        "    # Flatten the results to feed into a DNN\n",
        "    tf.keras.layers.Flatten(),\n",
        "\n",
        "    # 512 neuron hidden layer\n",
        "\n",
        "    tf.keras.layers.Dense(512, activation='relu'),\n",
        "    # Only 1 output neuron. It will contain a value from 0-1 where 0 for one class ('cats') and 1 for the other ('dogs')\n",
        "\n",
        "    tf.keras.layers.Dense(1, activation='sigmoid')\n",
        "])\n",
        "\n",
        "model.summary()"
      ],
      "metadata": {
        "id": "bZOOp_n8zwVE",
        "outputId": "28d90cbf-5db0-4fa9-c5a7-56a677b13da4",
        "colab": {
          "base_uri": "https://localhost:8080/",
          "height": 476
        }
      },
      "id": "bZOOp_n8zwVE",
      "execution_count": 19,
      "outputs": [
        {
          "output_type": "display_data",
          "data": {
            "text/plain": [
              "\u001b[1mModel: \"sequential\"\u001b[0m\n"
            ],
            "text/html": [
              "<pre style=\"white-space:pre;overflow-x:auto;line-height:normal;font-family:Menlo,'DejaVu Sans Mono',consolas,'Courier New',monospace\"><span style=\"font-weight: bold\">Model: \"sequential\"</span>\n",
              "</pre>\n"
            ]
          },
          "metadata": {}
        },
        {
          "output_type": "display_data",
          "data": {
            "text/plain": [
              "┏━━━━━━━━━━━━━━━━━━━━━━━━━━━━━━━━━┳━━━━━━━━━━━━━━━━━━━━━━━━┳━━━━━━━━━━━━━━━┓\n",
              "┃\u001b[1m \u001b[0m\u001b[1mLayer (type)                   \u001b[0m\u001b[1m \u001b[0m┃\u001b[1m \u001b[0m\u001b[1mOutput Shape          \u001b[0m\u001b[1m \u001b[0m┃\u001b[1m \u001b[0m\u001b[1m      Param #\u001b[0m\u001b[1m \u001b[0m┃\n",
              "┡━━━━━━━━━━━━━━━━━━━━━━━━━━━━━━━━━╇━━━━━━━━━━━━━━━━━━━━━━━━╇━━━━━━━━━━━━━━━┩\n",
              "│ rescaling (\u001b[38;5;33mRescaling\u001b[0m)           │ (\u001b[38;5;45mNone\u001b[0m, \u001b[38;5;34m150\u001b[0m, \u001b[38;5;34m150\u001b[0m, \u001b[38;5;34m3\u001b[0m)    │             \u001b[38;5;34m0\u001b[0m │\n",
              "├─────────────────────────────────┼────────────────────────┼───────────────┤\n",
              "│ conv2d (\u001b[38;5;33mConv2D\u001b[0m)                 │ (\u001b[38;5;45mNone\u001b[0m, \u001b[38;5;34m148\u001b[0m, \u001b[38;5;34m148\u001b[0m, \u001b[38;5;34m16\u001b[0m)   │           \u001b[38;5;34m448\u001b[0m │\n",
              "├─────────────────────────────────┼────────────────────────┼───────────────┤\n",
              "│ max_pooling2d (\u001b[38;5;33mMaxPooling2D\u001b[0m)    │ (\u001b[38;5;45mNone\u001b[0m, \u001b[38;5;34m74\u001b[0m, \u001b[38;5;34m74\u001b[0m, \u001b[38;5;34m16\u001b[0m)     │             \u001b[38;5;34m0\u001b[0m │\n",
              "├─────────────────────────────────┼────────────────────────┼───────────────┤\n",
              "│ conv2d_1 (\u001b[38;5;33mConv2D\u001b[0m)               │ (\u001b[38;5;45mNone\u001b[0m, \u001b[38;5;34m72\u001b[0m, \u001b[38;5;34m72\u001b[0m, \u001b[38;5;34m32\u001b[0m)     │         \u001b[38;5;34m4,640\u001b[0m │\n",
              "├─────────────────────────────────┼────────────────────────┼───────────────┤\n",
              "│ max_pooling2d_1 (\u001b[38;5;33mMaxPooling2D\u001b[0m)  │ (\u001b[38;5;45mNone\u001b[0m, \u001b[38;5;34m36\u001b[0m, \u001b[38;5;34m36\u001b[0m, \u001b[38;5;34m32\u001b[0m)     │             \u001b[38;5;34m0\u001b[0m │\n",
              "├─────────────────────────────────┼────────────────────────┼───────────────┤\n",
              "│ conv2d_2 (\u001b[38;5;33mConv2D\u001b[0m)               │ (\u001b[38;5;45mNone\u001b[0m, \u001b[38;5;34m34\u001b[0m, \u001b[38;5;34m34\u001b[0m, \u001b[38;5;34m64\u001b[0m)     │        \u001b[38;5;34m18,496\u001b[0m │\n",
              "├─────────────────────────────────┼────────────────────────┼───────────────┤\n",
              "│ max_pooling2d_2 (\u001b[38;5;33mMaxPooling2D\u001b[0m)  │ (\u001b[38;5;45mNone\u001b[0m, \u001b[38;5;34m17\u001b[0m, \u001b[38;5;34m17\u001b[0m, \u001b[38;5;34m64\u001b[0m)     │             \u001b[38;5;34m0\u001b[0m │\n",
              "├─────────────────────────────────┼────────────────────────┼───────────────┤\n",
              "│ flatten (\u001b[38;5;33mFlatten\u001b[0m)               │ (\u001b[38;5;45mNone\u001b[0m, \u001b[38;5;34m18496\u001b[0m)          │             \u001b[38;5;34m0\u001b[0m │\n",
              "├─────────────────────────────────┼────────────────────────┼───────────────┤\n",
              "│ dense (\u001b[38;5;33mDense\u001b[0m)                   │ (\u001b[38;5;45mNone\u001b[0m, \u001b[38;5;34m512\u001b[0m)            │     \u001b[38;5;34m9,470,464\u001b[0m │\n",
              "├─────────────────────────────────┼────────────────────────┼───────────────┤\n",
              "│ dense_1 (\u001b[38;5;33mDense\u001b[0m)                 │ (\u001b[38;5;45mNone\u001b[0m, \u001b[38;5;34m1\u001b[0m)              │           \u001b[38;5;34m513\u001b[0m │\n",
              "└─────────────────────────────────┴────────────────────────┴───────────────┘\n"
            ],
            "text/html": [
              "<pre style=\"white-space:pre;overflow-x:auto;line-height:normal;font-family:Menlo,'DejaVu Sans Mono',consolas,'Courier New',monospace\">┏━━━━━━━━━━━━━━━━━━━━━━━━━━━━━━━━━┳━━━━━━━━━━━━━━━━━━━━━━━━┳━━━━━━━━━━━━━━━┓\n",
              "┃<span style=\"font-weight: bold\"> Layer (type)                    </span>┃<span style=\"font-weight: bold\"> Output Shape           </span>┃<span style=\"font-weight: bold\">       Param # </span>┃\n",
              "┡━━━━━━━━━━━━━━━━━━━━━━━━━━━━━━━━━╇━━━━━━━━━━━━━━━━━━━━━━━━╇━━━━━━━━━━━━━━━┩\n",
              "│ rescaling (<span style=\"color: #0087ff; text-decoration-color: #0087ff\">Rescaling</span>)           │ (<span style=\"color: #00d7ff; text-decoration-color: #00d7ff\">None</span>, <span style=\"color: #00af00; text-decoration-color: #00af00\">150</span>, <span style=\"color: #00af00; text-decoration-color: #00af00\">150</span>, <span style=\"color: #00af00; text-decoration-color: #00af00\">3</span>)    │             <span style=\"color: #00af00; text-decoration-color: #00af00\">0</span> │\n",
              "├─────────────────────────────────┼────────────────────────┼───────────────┤\n",
              "│ conv2d (<span style=\"color: #0087ff; text-decoration-color: #0087ff\">Conv2D</span>)                 │ (<span style=\"color: #00d7ff; text-decoration-color: #00d7ff\">None</span>, <span style=\"color: #00af00; text-decoration-color: #00af00\">148</span>, <span style=\"color: #00af00; text-decoration-color: #00af00\">148</span>, <span style=\"color: #00af00; text-decoration-color: #00af00\">16</span>)   │           <span style=\"color: #00af00; text-decoration-color: #00af00\">448</span> │\n",
              "├─────────────────────────────────┼────────────────────────┼───────────────┤\n",
              "│ max_pooling2d (<span style=\"color: #0087ff; text-decoration-color: #0087ff\">MaxPooling2D</span>)    │ (<span style=\"color: #00d7ff; text-decoration-color: #00d7ff\">None</span>, <span style=\"color: #00af00; text-decoration-color: #00af00\">74</span>, <span style=\"color: #00af00; text-decoration-color: #00af00\">74</span>, <span style=\"color: #00af00; text-decoration-color: #00af00\">16</span>)     │             <span style=\"color: #00af00; text-decoration-color: #00af00\">0</span> │\n",
              "├─────────────────────────────────┼────────────────────────┼───────────────┤\n",
              "│ conv2d_1 (<span style=\"color: #0087ff; text-decoration-color: #0087ff\">Conv2D</span>)               │ (<span style=\"color: #00d7ff; text-decoration-color: #00d7ff\">None</span>, <span style=\"color: #00af00; text-decoration-color: #00af00\">72</span>, <span style=\"color: #00af00; text-decoration-color: #00af00\">72</span>, <span style=\"color: #00af00; text-decoration-color: #00af00\">32</span>)     │         <span style=\"color: #00af00; text-decoration-color: #00af00\">4,640</span> │\n",
              "├─────────────────────────────────┼────────────────────────┼───────────────┤\n",
              "│ max_pooling2d_1 (<span style=\"color: #0087ff; text-decoration-color: #0087ff\">MaxPooling2D</span>)  │ (<span style=\"color: #00d7ff; text-decoration-color: #00d7ff\">None</span>, <span style=\"color: #00af00; text-decoration-color: #00af00\">36</span>, <span style=\"color: #00af00; text-decoration-color: #00af00\">36</span>, <span style=\"color: #00af00; text-decoration-color: #00af00\">32</span>)     │             <span style=\"color: #00af00; text-decoration-color: #00af00\">0</span> │\n",
              "├─────────────────────────────────┼────────────────────────┼───────────────┤\n",
              "│ conv2d_2 (<span style=\"color: #0087ff; text-decoration-color: #0087ff\">Conv2D</span>)               │ (<span style=\"color: #00d7ff; text-decoration-color: #00d7ff\">None</span>, <span style=\"color: #00af00; text-decoration-color: #00af00\">34</span>, <span style=\"color: #00af00; text-decoration-color: #00af00\">34</span>, <span style=\"color: #00af00; text-decoration-color: #00af00\">64</span>)     │        <span style=\"color: #00af00; text-decoration-color: #00af00\">18,496</span> │\n",
              "├─────────────────────────────────┼────────────────────────┼───────────────┤\n",
              "│ max_pooling2d_2 (<span style=\"color: #0087ff; text-decoration-color: #0087ff\">MaxPooling2D</span>)  │ (<span style=\"color: #00d7ff; text-decoration-color: #00d7ff\">None</span>, <span style=\"color: #00af00; text-decoration-color: #00af00\">17</span>, <span style=\"color: #00af00; text-decoration-color: #00af00\">17</span>, <span style=\"color: #00af00; text-decoration-color: #00af00\">64</span>)     │             <span style=\"color: #00af00; text-decoration-color: #00af00\">0</span> │\n",
              "├─────────────────────────────────┼────────────────────────┼───────────────┤\n",
              "│ flatten (<span style=\"color: #0087ff; text-decoration-color: #0087ff\">Flatten</span>)               │ (<span style=\"color: #00d7ff; text-decoration-color: #00d7ff\">None</span>, <span style=\"color: #00af00; text-decoration-color: #00af00\">18496</span>)          │             <span style=\"color: #00af00; text-decoration-color: #00af00\">0</span> │\n",
              "├─────────────────────────────────┼────────────────────────┼───────────────┤\n",
              "│ dense (<span style=\"color: #0087ff; text-decoration-color: #0087ff\">Dense</span>)                   │ (<span style=\"color: #00d7ff; text-decoration-color: #00d7ff\">None</span>, <span style=\"color: #00af00; text-decoration-color: #00af00\">512</span>)            │     <span style=\"color: #00af00; text-decoration-color: #00af00\">9,470,464</span> │\n",
              "├─────────────────────────────────┼────────────────────────┼───────────────┤\n",
              "│ dense_1 (<span style=\"color: #0087ff; text-decoration-color: #0087ff\">Dense</span>)                 │ (<span style=\"color: #00d7ff; text-decoration-color: #00d7ff\">None</span>, <span style=\"color: #00af00; text-decoration-color: #00af00\">1</span>)              │           <span style=\"color: #00af00; text-decoration-color: #00af00\">513</span> │\n",
              "└─────────────────────────────────┴────────────────────────┴───────────────┘\n",
              "</pre>\n"
            ]
          },
          "metadata": {}
        },
        {
          "output_type": "display_data",
          "data": {
            "text/plain": [
              "\u001b[1m Total params: \u001b[0m\u001b[38;5;34m9,494,561\u001b[0m (36.22 MB)\n"
            ],
            "text/html": [
              "<pre style=\"white-space:pre;overflow-x:auto;line-height:normal;font-family:Menlo,'DejaVu Sans Mono',consolas,'Courier New',monospace\"><span style=\"font-weight: bold\"> Total params: </span><span style=\"color: #00af00; text-decoration-color: #00af00\">9,494,561</span> (36.22 MB)\n",
              "</pre>\n"
            ]
          },
          "metadata": {}
        },
        {
          "output_type": "display_data",
          "data": {
            "text/plain": [
              "\u001b[1m Trainable params: \u001b[0m\u001b[38;5;34m9,494,561\u001b[0m (36.22 MB)\n"
            ],
            "text/html": [
              "<pre style=\"white-space:pre;overflow-x:auto;line-height:normal;font-family:Menlo,'DejaVu Sans Mono',consolas,'Courier New',monospace\"><span style=\"font-weight: bold\"> Trainable params: </span><span style=\"color: #00af00; text-decoration-color: #00af00\">9,494,561</span> (36.22 MB)\n",
              "</pre>\n"
            ]
          },
          "metadata": {}
        },
        {
          "output_type": "display_data",
          "data": {
            "text/plain": [
              "\u001b[1m Non-trainable params: \u001b[0m\u001b[38;5;34m0\u001b[0m (0.00 B)\n"
            ],
            "text/html": [
              "<pre style=\"white-space:pre;overflow-x:auto;line-height:normal;font-family:Menlo,'DejaVu Sans Mono',consolas,'Courier New',monospace\"><span style=\"font-weight: bold\"> Non-trainable params: </span><span style=\"color: #00af00; text-decoration-color: #00af00\">0</span> (0.00 B)\n",
              "</pre>\n"
            ]
          },
          "metadata": {}
        }
      ]
    },
    {
      "cell_type": "code",
      "source": [
        "model.compile(\n",
        "    optimizer=tf.keras.optimizers.RMSprop(learning_rate=0.001),\n",
        "    loss='binary_crossentropy',\n",
        "    metrics = ['accuracy']\n",
        "    )"
      ],
      "metadata": {
        "id": "a1vgglYozwTB"
      },
      "id": "a1vgglYozwTB",
      "execution_count": 20,
      "outputs": []
    },
    {
      "cell_type": "code",
      "source": [
        "train_dir ='/content/cat_vs_dog/train/train'\n",
        "val_dir ='/content/cat_vs_dog/val'\n",
        "\n",
        "# Instantiate the Dataset object for the training set\n",
        "train_dataset = tf.keras.utils.image_dataset_from_directory(\n",
        "    train_dir,\n",
        "    image_size=(150, 150),\n",
        "    batch_size=50,\n",
        "    label_mode='binary'\n",
        "    )\n",
        "\n",
        "# Instantiate the Dataset object for the validation set\n",
        "validation_dataset = tf.keras.utils.image_dataset_from_directory(\n",
        "    val_dir,\n",
        "    image_size=(150, 150),\n",
        "    batch_size=50,\n",
        "    label_mode='binary'\n",
        "    )"
      ],
      "metadata": {
        "id": "XEtAyc7dzwQr",
        "outputId": "1ec4be84-661c-4556-823a-e4f8ef38e4ae",
        "colab": {
          "base_uri": "https://localhost:8080/"
        }
      },
      "id": "XEtAyc7dzwQr",
      "execution_count": 21,
      "outputs": [
        {
          "output_type": "stream",
          "name": "stdout",
          "text": [
            "Found 20000 files belonging to 2 classes.\n",
            "Found 5000 files belonging to 2 classes.\n"
          ]
        }
      ]
    },
    {
      "cell_type": "code",
      "source": [
        "SHUFFLE_BUFFER_SIZE = 1000\n",
        "PREFETCH_BUFFER_SIZE = tf.data.AUTOTUNE\n",
        "\n",
        "train_dataset_final = train_dataset.cache().shuffle(SHUFFLE_BUFFER_SIZE).prefetch(PREFETCH_BUFFER_SIZE)\n",
        "validation_dataset_final = validation_dataset.cache().prefetch(PREFETCH_BUFFER_SIZE)"
      ],
      "metadata": {
        "id": "clscArV0zwO5"
      },
      "id": "clscArV0zwO5",
      "execution_count": 22,
      "outputs": []
    },
    {
      "cell_type": "code",
      "source": [
        "print(\"Num GPUs Available: \", len(tf.config.list_physical_devices('GPU')))\n",
        "gpus = tf.config.experimental.list_physical_devices('GPU')\n",
        "if gpus:\n",
        "    try:\n",
        "        # Restrict TensorFlow to only use the first GPU\n",
        "        tf.config.experimental.set_visible_devices(gpus[0], 'GPU')\n",
        "        logical_gpus = tf.config.experimental.list_logical_devices('GPU')\n",
        "        print(len(gpus), \"Physical GPUs,\", len(logical_gpus), \"Logical GPUs\")\n",
        "    except RuntimeError as e:\n",
        "        print(e)"
      ],
      "metadata": {
        "id": "AUO37vzXzwMM",
        "outputId": "98243011-c344-4673-97b3-95384758ccf3",
        "colab": {
          "base_uri": "https://localhost:8080/"
        }
      },
      "id": "AUO37vzXzwMM",
      "execution_count": 23,
      "outputs": [
        {
          "output_type": "stream",
          "name": "stdout",
          "text": [
            "Num GPUs Available:  1\n",
            "1 Physical GPUs, 1 Logical GPUs\n"
          ]
        }
      ]
    },
    {
      "cell_type": "code",
      "source": [
        "history = model.fit(\n",
        "    train_dataset_final,\n",
        "    epochs=15,\n",
        "    validation_data=validation_dataset_final,\n",
        "    verbose=2\n",
        "    )"
      ],
      "metadata": {
        "id": "D-xz3cY2zwJk",
        "outputId": "01d687b8-1e4b-4066-f442-67e5d1a393af",
        "colab": {
          "base_uri": "https://localhost:8080/"
        }
      },
      "id": "D-xz3cY2zwJk",
      "execution_count": 24,
      "outputs": [
        {
          "output_type": "stream",
          "name": "stdout",
          "text": [
            "Epoch 1/15\n",
            "400/400 - 47s - 118ms/step - accuracy: 0.6448 - loss: 0.6312 - val_accuracy: 0.6414 - val_loss: 0.6978\n",
            "Epoch 2/15\n",
            "400/400 - 7s - 17ms/step - accuracy: 0.7544 - loss: 0.5047 - val_accuracy: 0.7754 - val_loss: 0.4667\n",
            "Epoch 3/15\n",
            "400/400 - 7s - 17ms/step - accuracy: 0.7953 - loss: 0.4367 - val_accuracy: 0.8034 - val_loss: 0.4339\n",
            "Epoch 4/15\n",
            "400/400 - 7s - 17ms/step - accuracy: 0.8300 - loss: 0.3752 - val_accuracy: 0.8100 - val_loss: 0.4338\n",
            "Epoch 5/15\n",
            "400/400 - 7s - 18ms/step - accuracy: 0.8587 - loss: 0.3183 - val_accuracy: 0.8128 - val_loss: 0.4330\n",
            "Epoch 6/15\n",
            "400/400 - 7s - 18ms/step - accuracy: 0.8955 - loss: 0.2521 - val_accuracy: 0.8218 - val_loss: 0.4258\n",
            "Epoch 7/15\n",
            "400/400 - 7s - 18ms/step - accuracy: 0.9331 - loss: 0.1648 - val_accuracy: 0.8180 - val_loss: 0.5181\n",
            "Epoch 8/15\n",
            "400/400 - 7s - 18ms/step - accuracy: 0.9650 - loss: 0.0915 - val_accuracy: 0.8164 - val_loss: 0.6948\n",
            "Epoch 9/15\n",
            "400/400 - 10s - 26ms/step - accuracy: 0.9816 - loss: 0.0527 - val_accuracy: 0.8200 - val_loss: 0.7475\n",
            "Epoch 10/15\n",
            "400/400 - 10s - 26ms/step - accuracy: 0.9898 - loss: 0.0308 - val_accuracy: 0.8136 - val_loss: 0.8791\n",
            "Epoch 11/15\n",
            "400/400 - 7s - 18ms/step - accuracy: 0.9941 - loss: 0.0189 - val_accuracy: 0.8214 - val_loss: 0.9428\n",
            "Epoch 12/15\n",
            "400/400 - 7s - 18ms/step - accuracy: 0.9930 - loss: 0.0241 - val_accuracy: 0.8168 - val_loss: 1.0023\n",
            "Epoch 13/15\n",
            "400/400 - 7s - 18ms/step - accuracy: 0.9938 - loss: 0.0226 - val_accuracy: 0.8104 - val_loss: 1.1767\n",
            "Epoch 14/15\n",
            "400/400 - 7s - 18ms/step - accuracy: 0.9948 - loss: 0.0160 - val_accuracy: 0.8108 - val_loss: 1.2082\n",
            "Epoch 15/15\n",
            "400/400 - 7s - 18ms/step - accuracy: 0.9961 - loss: 0.0107 - val_accuracy: 0.8104 - val_loss: 1.2674\n"
          ]
        }
      ]
    },
    {
      "cell_type": "code",
      "source": [
        "import ipywidgets as widgets\n",
        "from IPython.display import display\n",
        "import tensorflow as tf\n",
        "import numpy as np\n",
        "from io import BytesIO\n",
        "\n",
        "# Create the widget and take care of the display\n",
        "uploader = widgets.FileUpload(accept=\"image/*\", multiple=True)\n",
        "display(uploader)\n",
        "out = widgets.Output()\n",
        "display(out)\n",
        "\n",
        "def file_predict(filename, file, out):\n",
        "    \"\"\" A function for creating the prediction and printing the output.\"\"\"\n",
        "    image = tf.keras.utils.load_img(file, target_size=(150, 150))\n",
        "    image = tf.keras.utils.img_to_array(image)\n",
        "    image = np.expand_dims(image, axis=0)\n",
        "\n",
        "    prediction = model.predict(image, verbose=0)[0][0]\n",
        "\n",
        "    with out:\n",
        "        if prediction > 0.5:\n",
        "            print(filename + \" is a dog\")\n",
        "        else:\n",
        "            print(filename + \" is a cat\")\n",
        "\n",
        "\n",
        "def on_upload_change(change):\n",
        "    \"\"\" A function for getting files from the widget and running the prediction.\"\"\"\n",
        "    items = change['new']\n",
        "    for filename, file_info in items.items():\n",
        "        file_jpgdata = BytesIO(file_info['content'])\n",
        "        file_predict(filename, file_jpgdata, out)\n",
        "\n",
        "\n",
        "\n",
        "uploader.observe(on_upload_change, names='value')"
      ],
      "metadata": {
        "colab": {
          "base_uri": "https://localhost:8080/",
          "height": 188,
          "referenced_widgets": [
            "c8994cc355194e818f40b5bbe6362d84",
            "76d2e5c9ec6d49c5a708d96b42f6e689",
            "738f20eb912c4a9da63f558f777c1908",
            "6041e5b9e67c49a092f36b9ce1072b72",
            "805c5f84d5d44e4abc37a9fd64df9ad0"
          ]
        },
        "id": "1sUHYOI5zwGi",
        "outputId": "44feb1ac-41f7-4b97-cd4d-c26dad74c6fc"
      },
      "id": "1sUHYOI5zwGi",
      "execution_count": 25,
      "outputs": [
        {
          "output_type": "display_data",
          "data": {
            "text/plain": [
              "FileUpload(value={}, accept='image/*', description='Upload', multiple=True)"
            ],
            "application/vnd.jupyter.widget-view+json": {
              "version_major": 2,
              "version_minor": 0,
              "model_id": "c8994cc355194e818f40b5bbe6362d84"
            }
          },
          "metadata": {}
        },
        {
          "output_type": "display_data",
          "data": {
            "text/plain": [
              "Output()"
            ],
            "application/vnd.jupyter.widget-view+json": {
              "version_major": 2,
              "version_minor": 0,
              "model_id": "6041e5b9e67c49a092f36b9ce1072b72"
            }
          },
          "metadata": {}
        }
      ]
    },
    {
      "cell_type": "code",
      "source": [
        "model.save('/content/dog_cat_classification.keras')"
      ],
      "metadata": {
        "id": "4_NWgh8B5myp"
      },
      "id": "4_NWgh8B5myp",
      "execution_count": 26,
      "outputs": []
    },
    {
      "cell_type": "markdown",
      "source": [
        "## Prediction of Cats and Dogs\n"
      ],
      "metadata": {
        "id": "Yx-kcI5dx5Gu"
      },
      "id": "Yx-kcI5dx5Gu"
    },
    {
      "cell_type": "code",
      "source": [
        "from tensorflow.keras.preprocessing import image"
      ],
      "metadata": {
        "id": "eigWyYTEx4Ye"
      },
      "id": "eigWyYTEx4Ye",
      "execution_count": null,
      "outputs": []
    },
    {
      "cell_type": "code",
      "source": [
        "\n",
        "\n",
        "test_image_dir= '/content/cat_vs_dog/test/test1/100.jpg'\n",
        "IMG_SIZE=(150, 150)\n",
        "test_img = image.load_img(test_image_dir, target_size=IMG_SIZE)\n",
        "test_img\n",
        "\n",
        "def img_predict(file):\n",
        "    \"\"\" A function for creating the prediction and printing the output.\"\"\"\n",
        "    image = tf.keras.utils.img_to_array(file)\n",
        "    image = np.expand_dims(image, axis=0)\n",
        "\n",
        "    prediction = model.predict(image, verbose=0)[0][0]\n",
        "    if prediction > 0.5:\n",
        "        print(filename + \" is a dog\")\n",
        "    else:\n",
        "        print(filename + \" is a cat\")\n",
        "\n",
        "img_predict(test_img)"
      ],
      "metadata": {
        "id": "Ke8jDnogs2e1",
        "outputId": "ec579ce1-096c-4952-9ea4-a756082330f5",
        "colab": {
          "base_uri": "https://localhost:8080/"
        }
      },
      "id": "Ke8jDnogs2e1",
      "execution_count": 42,
      "outputs": [
        {
          "output_type": "stream",
          "name": "stdout",
          "text": [
            "dog.10603.jpg is a cat\n"
          ]
        }
      ]
    }
  ],
  "metadata": {
    "colab": {
      "provenance": [],
      "gpuType": "T4"
    },
    "language_info": {
      "name": "python"
    },
    "kernelspec": {
      "name": "python3",
      "display_name": "Python 3"
    },
    "accelerator": "GPU",
    "widgets": {
      "application/vnd.jupyter.widget-state+json": {
        "c8994cc355194e818f40b5bbe6362d84": {
          "model_module": "@jupyter-widgets/controls",
          "model_name": "FileUploadModel",
          "model_module_version": "1.5.0",
          "state": {
            "_counter": 5,
            "_dom_classes": [],
            "_model_module": "@jupyter-widgets/controls",
            "_model_module_version": "1.5.0",
            "_model_name": "FileUploadModel",
            "_view_count": null,
            "_view_module": "@jupyter-widgets/controls",
            "_view_module_version": "1.5.0",
            "_view_name": "FileUploadView",
            "accept": "image/*",
            "button_style": "",
            "data": [
              null
            ],
            "description": "Upload",
            "description_tooltip": null,
            "disabled": false,
            "error": "",
            "icon": "upload",
            "layout": "IPY_MODEL_76d2e5c9ec6d49c5a708d96b42f6e689",
            "metadata": [
              {
                "name": "maltese-portrait.jpg",
                "type": "image/jpeg",
                "size": 15881,
                "lastModified": 1746718574668
              }
            ],
            "multiple": true,
            "style": "IPY_MODEL_738f20eb912c4a9da63f558f777c1908"
          }
        },
        "76d2e5c9ec6d49c5a708d96b42f6e689": {
          "model_module": "@jupyter-widgets/base",
          "model_name": "LayoutModel",
          "model_module_version": "1.2.0",
          "state": {
            "_model_module": "@jupyter-widgets/base",
            "_model_module_version": "1.2.0",
            "_model_name": "LayoutModel",
            "_view_count": null,
            "_view_module": "@jupyter-widgets/base",
            "_view_module_version": "1.2.0",
            "_view_name": "LayoutView",
            "align_content": null,
            "align_items": null,
            "align_self": null,
            "border": null,
            "bottom": null,
            "display": null,
            "flex": null,
            "flex_flow": null,
            "grid_area": null,
            "grid_auto_columns": null,
            "grid_auto_flow": null,
            "grid_auto_rows": null,
            "grid_column": null,
            "grid_gap": null,
            "grid_row": null,
            "grid_template_areas": null,
            "grid_template_columns": null,
            "grid_template_rows": null,
            "height": null,
            "justify_content": null,
            "justify_items": null,
            "left": null,
            "margin": null,
            "max_height": null,
            "max_width": null,
            "min_height": null,
            "min_width": null,
            "object_fit": null,
            "object_position": null,
            "order": null,
            "overflow": null,
            "overflow_x": null,
            "overflow_y": null,
            "padding": null,
            "right": null,
            "top": null,
            "visibility": null,
            "width": null
          }
        },
        "738f20eb912c4a9da63f558f777c1908": {
          "model_module": "@jupyter-widgets/controls",
          "model_name": "ButtonStyleModel",
          "model_module_version": "1.5.0",
          "state": {
            "_model_module": "@jupyter-widgets/controls",
            "_model_module_version": "1.5.0",
            "_model_name": "ButtonStyleModel",
            "_view_count": null,
            "_view_module": "@jupyter-widgets/base",
            "_view_module_version": "1.2.0",
            "_view_name": "StyleView",
            "button_color": null,
            "font_weight": ""
          }
        },
        "6041e5b9e67c49a092f36b9ce1072b72": {
          "model_module": "@jupyter-widgets/output",
          "model_name": "OutputModel",
          "model_module_version": "1.0.0",
          "state": {
            "_dom_classes": [],
            "_model_module": "@jupyter-widgets/output",
            "_model_module_version": "1.0.0",
            "_model_name": "OutputModel",
            "_view_count": null,
            "_view_module": "@jupyter-widgets/output",
            "_view_module_version": "1.0.0",
            "_view_name": "OutputView",
            "layout": "IPY_MODEL_805c5f84d5d44e4abc37a9fd64df9ad0",
            "msg_id": "",
            "outputs": [
              {
                "output_type": "stream",
                "name": "stdout",
                "text": [
                  "images.jpeg is a dog\n"
                ]
              },
              {
                "output_type": "stream",
                "name": "stdout",
                "text": [
                  "maltese-portrait1.jpg is a dog\n"
                ]
              },
              {
                "output_type": "stream",
                "name": "stdout",
                "text": [
                  "images.jpeg is a dog\n"
                ]
              },
              {
                "output_type": "stream",
                "name": "stdout",
                "text": [
                  "maltese-portrait.jpg is a dog\n"
                ]
              },
              {
                "output_type": "stream",
                "name": "stdout",
                "text": [
                  "dog.10603.jpg is a cat\n"
                ]
              },
              {
                "output_type": "stream",
                "name": "stdout",
                "text": [
                  "dog.10603.jpg is a cat\n"
                ]
              },
              {
                "output_type": "stream",
                "name": "stdout",
                "text": [
                  "dog.10603.jpg is a cat\n"
                ]
              },
              {
                "output_type": "stream",
                "name": "stdout",
                "text": [
                  "dog.10603.jpg is a cat\n"
                ]
              }
            ]
          }
        },
        "805c5f84d5d44e4abc37a9fd64df9ad0": {
          "model_module": "@jupyter-widgets/base",
          "model_name": "LayoutModel",
          "model_module_version": "1.2.0",
          "state": {
            "_model_module": "@jupyter-widgets/base",
            "_model_module_version": "1.2.0",
            "_model_name": "LayoutModel",
            "_view_count": null,
            "_view_module": "@jupyter-widgets/base",
            "_view_module_version": "1.2.0",
            "_view_name": "LayoutView",
            "align_content": null,
            "align_items": null,
            "align_self": null,
            "border": null,
            "bottom": null,
            "display": null,
            "flex": null,
            "flex_flow": null,
            "grid_area": null,
            "grid_auto_columns": null,
            "grid_auto_flow": null,
            "grid_auto_rows": null,
            "grid_column": null,
            "grid_gap": null,
            "grid_row": null,
            "grid_template_areas": null,
            "grid_template_columns": null,
            "grid_template_rows": null,
            "height": null,
            "justify_content": null,
            "justify_items": null,
            "left": null,
            "margin": null,
            "max_height": null,
            "max_width": null,
            "min_height": null,
            "min_width": null,
            "object_fit": null,
            "object_position": null,
            "order": null,
            "overflow": null,
            "overflow_x": null,
            "overflow_y": null,
            "padding": null,
            "right": null,
            "top": null,
            "visibility": null,
            "width": null
          }
        }
      }
    }
  },
  "nbformat": 4,
  "nbformat_minor": 5
}